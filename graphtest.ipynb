{
 "cells": [
  {
   "cell_type": "code",
   "execution_count": null,
   "metadata": {},
   "outputs": [],
   "source": [
    "import pandas as pd\n",
    "import numpy as np\n",
    "from pyspark.sql import SparkSession\n",
    "from pyspark.ml.feature import VectorAssembler\n",
    "from matplotlib import pyplot as plt\n"
   ]
  },
  {
   "cell_type": "code",
   "execution_count": null,
   "metadata": {},
   "outputs": [],
   "source": [
    "spark = SparkSession.builder.appName(\"test2\").getOrCreate()"
   ]
  },
  {
   "cell_type": "code",
   "execution_count": null,
   "metadata": {},
   "outputs": [],
   "source": [
    "spark"
   ]
  },
  {
   "cell_type": "code",
   "execution_count": 31,
   "metadata": {},
   "outputs": [
    {
     "name": "stderr",
     "output_type": "stream",
     "text": [
      "/Library/Frameworks/Python.framework/Versions/3.10/lib/python3.10/site-packages/openpyxl/worksheet/_reader.py:329: UserWarning: Unknown extension is not supported and will be removed\n",
      "  warn(msg)\n"
     ]
    }
   ],
   "source": [
    "pdf = pd.read_excel('/Users/dhruvbharara/Downloads/CrystalPools.xlsx',header=None)"
   ]
  },
  {
   "cell_type": "code",
   "execution_count": 33,
   "metadata": {},
   "outputs": [],
   "source": [
    "df = spark.createDataFrame(pdf)\n"
   ]
  },
  {
   "cell_type": "code",
   "execution_count": 34,
   "metadata": {},
   "outputs": [
    {
     "name": "stdout",
     "output_type": "stream",
     "text": [
      "+-----+------------------+------------+-------------------+----------+----------+-----------------+--------------------+----------+---------+-------------+\n",
      "|    0|                 1|           2|                  3|         4|         5|                6|                   7|         8|        9|           10|\n",
      "+-----+------------------+------------+-------------------+----------+----------+-----------------+--------------------+----------+---------+-------------+\n",
      "|Month|Transaction Number|Product Code|Product Description|Store Cost|Sale Price|           Profit|Commision 10% for...|FIRST NAME|LAST NAME|Sale Location|\n",
      "|  Jan|              1001|        9822|         Pool Cover|      58.3|      98.4|40.10000000000001|   8.020000000000001|    Chalie|    Barns|           NM|\n",
      "|  Jan|              1002|        2877|                Net|      11.4|      16.3|              4.9| 0.49000000000000005|      Juan|Hernandez|           CA|\n",
      "|  Jan|              1003|        2499|          8 ft Hose|       6.2|       9.2|2.999999999999999| 0.29999999999999993|      Doug|    Smith|           AZ|\n",
      "|  Jan|              1004|        8722|         Water Pump|       344|       502|              158|                31.6|    Chalie|    Barns|           AZ|\n",
      "|  Jan|              1005|        1109|  Chlorine Test Kit|         3|         8|                5|                 0.5|      Doug|    Smith|           AZ|\n",
      "|  Jan|              1006|        9822|         Pool Cover|      58.3|      98.4|40.10000000000001|   8.020000000000001|      Doug|    Smith|           AZ|\n",
      "|  Jan|              1007|        1109|  Chlorine Test Kit|         3|         8|                5|                 0.5|    Hellen|  Johnson|           NM|\n",
      "|  Jan|              1008|        2877|                Net|      11.4|      16.3|              4.9| 0.49000000000000005|      Doug|    Smith|           NM|\n",
      "|  Jan|              1009|        1109|  Chlorine Test Kit|         3|         8|                5|                 0.5|      Doug|    Smith|           AZ|\n",
      "|  Jan|              1010|        2877|                Net|      11.4|      16.3|              4.9| 0.49000000000000005|      Juan|Hernandez|           CO|\n",
      "|  Jan|              1011|        2877|                Net|      11.4|      16.3|              4.9| 0.49000000000000005|      Juan|Hernandez|           AZ|\n",
      "|  Jan|              1012|        4421|            Skimmer|        45|        87|               42|                 8.4|      Doug|    Smith|           NM|\n",
      "|  Jan|              1013|        9212| 1 Gal Muratic Acid|         4|         7|                3| 0.30000000000000004|    Hellen|  Johnson|           CO|\n",
      "|  Jan|              1014|        8722|         Water Pump|       344|       502|              158|                31.6|    Chalie|    Barns|           CA|\n",
      "|  Jan|              1015|        2877|                Net|      11.4|      16.3|              4.9| 0.49000000000000005|    Hellen|  Johnson|           AZ|\n",
      "|  Jan|              1016|        2499|          8 ft Hose|       6.2|       9.2|2.999999999999999| 0.29999999999999993|      Doug|    Smith|           CA|\n",
      "|  Feb|              1017|        2242|            AutoVac|        60|       124|               64|                12.8|      Juan|Hernandez|           NM|\n",
      "|  Feb|              1018|        1109|  Chlorine Test Kit|         3|         8|                5|                 0.5|      Doug|    Smith|           CA|\n",
      "|  Feb|              1019|        2499|          8 ft Hose|       6.2|       9.2|2.999999999999999| 0.29999999999999993|      Doug|    Smith|           CO|\n",
      "+-----+------------------+------------+-------------------+----------+----------+-----------------+--------------------+----------+---------+-------------+\n",
      "only showing top 20 rows\n",
      "\n"
     ]
    }
   ],
   "source": [
    "df.show()"
   ]
  },
  {
   "cell_type": "code",
   "execution_count": 39,
   "metadata": {},
   "outputs": [
    {
     "ename": "AttributeError",
     "evalue": "'DataFrame' object has no attribute 'types'",
     "output_type": "error",
     "traceback": [
      "\u001b[0;31m---------------------------------------------------------------------------\u001b[0m",
      "\u001b[0;31mAttributeError\u001b[0m                            Traceback (most recent call last)",
      "Cell \u001b[0;32mIn[39], line 1\u001b[0m\n\u001b[0;32m----> 1\u001b[0m df\u001b[39m.\u001b[39;49mtypes()\n",
      "File \u001b[0;32m/Library/Frameworks/Python.framework/Versions/3.10/lib/python3.10/site-packages/pyspark/sql/dataframe.py:3123\u001b[0m, in \u001b[0;36mDataFrame.__getattr__\u001b[0;34m(self, name)\u001b[0m\n\u001b[1;32m   3090\u001b[0m \u001b[39m\u001b[39m\u001b[39m\"\"\"Returns the :class:`Column` denoted by ``name``.\u001b[39;00m\n\u001b[1;32m   3091\u001b[0m \n\u001b[1;32m   3092\u001b[0m \u001b[39m.. versionadded:: 1.3.0\u001b[39;00m\n\u001b[0;32m   (...)\u001b[0m\n\u001b[1;32m   3120\u001b[0m \u001b[39m+---+\u001b[39;00m\n\u001b[1;32m   3121\u001b[0m \u001b[39m\"\"\"\u001b[39;00m\n\u001b[1;32m   3122\u001b[0m \u001b[39mif\u001b[39;00m name \u001b[39mnot\u001b[39;00m \u001b[39min\u001b[39;00m \u001b[39mself\u001b[39m\u001b[39m.\u001b[39mcolumns:\n\u001b[0;32m-> 3123\u001b[0m     \u001b[39mraise\u001b[39;00m \u001b[39mAttributeError\u001b[39;00m(\n\u001b[1;32m   3124\u001b[0m         \u001b[39m\"\u001b[39m\u001b[39m'\u001b[39m\u001b[39m%s\u001b[39;00m\u001b[39m'\u001b[39m\u001b[39m object has no attribute \u001b[39m\u001b[39m'\u001b[39m\u001b[39m%s\u001b[39;00m\u001b[39m'\u001b[39m\u001b[39m\"\u001b[39m \u001b[39m%\u001b[39m (\u001b[39mself\u001b[39m\u001b[39m.\u001b[39m\u001b[39m__class__\u001b[39m\u001b[39m.\u001b[39m\u001b[39m__name__\u001b[39m, name)\n\u001b[1;32m   3125\u001b[0m     )\n\u001b[1;32m   3126\u001b[0m jc \u001b[39m=\u001b[39m \u001b[39mself\u001b[39m\u001b[39m.\u001b[39m_jdf\u001b[39m.\u001b[39mapply(name)\n\u001b[1;32m   3127\u001b[0m \u001b[39mreturn\u001b[39;00m Column(jc)\n",
      "\u001b[0;31mAttributeError\u001b[0m: 'DataFrame' object has no attribute 'types'"
     ]
    }
   ],
   "source": [
    "df.types()"
   ]
  },
  {
   "cell_type": "code",
   "execution_count": 57,
   "metadata": {},
   "outputs": [],
   "source": [
    "df2 = spark.read.csv('/Users/dhruvbharara/Downloads/CrystalPools.csv',header=True)"
   ]
  },
  {
   "cell_type": "code",
   "execution_count": 58,
   "metadata": {},
   "outputs": [
    {
     "name": "stdout",
     "output_type": "stream",
     "text": [
      "+-----+------------------+------------+-------------------+------------+------------+---------+-------------------------------------------------------------------------+----------+---------+-------------+\n",
      "|Month|Transaction Number|Product Code|Product Description| Store Cost | Sale Price |  Profit |Commision 10% for product less than 50$ and 20% for product more than 50$|FIRST NAME|LAST NAME|Sale Location|\n",
      "+-----+------------------+------------+-------------------+------------+------------+---------+-------------------------------------------------------------------------+----------+---------+-------------+\n",
      "|  Jan|            1,001 |        9822|         Pool Cover|     $58.30 |     $98.40 |  $40.10 |                                                                     8.02|    Chalie|    Barns|           NM|\n",
      "|  Jan|            1,002 |        2877|                Net|     $11.40 |     $16.30 |   $4.90 |                                                                     0.49|      Juan|Hernandez|           CA|\n",
      "|  Jan|            1,003 |        2499|          8 ft Hose|      $6.20 |      $9.20 |   $3.00 |                                                                      0.3|      Doug|    Smith|           AZ|\n",
      "|  Jan|            1,004 |        8722|         Water Pump|    $344.00 |    $502.00 | $158.00 |                                                                     31.6|    Chalie|    Barns|           AZ|\n",
      "|  Jan|            1,005 |        1109|  Chlorine Test Kit|      $3.00 |      $8.00 |   $5.00 |                                                                      0.5|      Doug|    Smith|           AZ|\n",
      "|  Jan|            1,006 |        9822|         Pool Cover|     $58.30 |     $98.40 |  $40.10 |                                                                     8.02|      Doug|    Smith|           AZ|\n",
      "|  Jan|            1,007 |        1109|  Chlorine Test Kit|      $3.00 |      $8.00 |   $5.00 |                                                                      0.5|    Hellen|  Johnson|           NM|\n",
      "|  Jan|            1,008 |        2877|                Net|     $11.40 |     $16.30 |   $4.90 |                                                                     0.49|      Doug|    Smith|           NM|\n",
      "|  Jan|            1,009 |        1109|  Chlorine Test Kit|      $3.00 |      $8.00 |   $5.00 |                                                                      0.5|      Doug|    Smith|           AZ|\n",
      "|  Jan|            1,010 |        2877|                Net|     $11.40 |     $16.30 |   $4.90 |                                                                     0.49|      Juan|Hernandez|           CO|\n",
      "|  Jan|            1,011 |        2877|                Net|     $11.40 |     $16.30 |   $4.90 |                                                                     0.49|      Juan|Hernandez|           AZ|\n",
      "|  Jan|            1,012 |        4421|            Skimmer|     $45.00 |     $87.00 |  $42.00 |                                                                      8.4|      Doug|    Smith|           NM|\n",
      "|  Jan|            1,013 |        9212| 1 Gal Muratic Acid|      $4.00 |      $7.00 |   $3.00 |                                                                      0.3|    Hellen|  Johnson|           CO|\n",
      "|  Jan|            1,014 |        8722|         Water Pump|    $344.00 |    $502.00 | $158.00 |                                                                     31.6|    Chalie|    Barns|           CA|\n",
      "|  Jan|            1,015 |        2877|                Net|     $11.40 |     $16.30 |   $4.90 |                                                                     0.49|    Hellen|  Johnson|           AZ|\n",
      "|  Jan|            1,016 |        2499|          8 ft Hose|      $6.20 |      $9.20 |   $3.00 |                                                                      0.3|      Doug|    Smith|           CA|\n",
      "|  Feb|            1,017 |        2242|            AutoVac|     $60.00 |    $124.00 |  $64.00 |                                                                     12.8|      Juan|Hernandez|           NM|\n",
      "|  Feb|            1,018 |        1109|  Chlorine Test Kit|      $3.00 |      $8.00 |   $5.00 |                                                                      0.5|      Doug|    Smith|           CA|\n",
      "|  Feb|            1,019 |        2499|          8 ft Hose|      $6.20 |      $9.20 |   $3.00 |                                                                      0.3|      Doug|    Smith|           CO|\n",
      "|  Feb|            1,020 |        2499|          8 ft Hose|      $6.20 |      $9.20 |   $3.00 |                                                                      0.3|      Doug|    Smith|           NV|\n",
      "+-----+------------------+------------+-------------------+------------+------------+---------+-------------------------------------------------------------------------+----------+---------+-------------+\n",
      "only showing top 20 rows\n",
      "\n"
     ]
    }
   ],
   "source": [
    "df2.show()"
   ]
  },
  {
   "cell_type": "code",
   "execution_count": 55,
   "metadata": {},
   "outputs": [],
   "source": [
    "df3 = spark.read.csv('/Users/dhruvbharara/Downloads/testspark.csv',inferSchema=True,header=True)"
   ]
  },
  {
   "cell_type": "code",
   "execution_count": 56,
   "metadata": {},
   "outputs": [
    {
     "name": "stdout",
     "output_type": "stream",
     "text": [
      "+----------+----------+------+\n",
      "|      Name|Department|salary|\n",
      "+----------+----------+------+\n",
      "|     dhruv|        it| 10000|\n",
      "|   pritesh|blockchain| 24000|\n",
      "|   advaith|blockchain| 13000|\n",
      "|     arnav|       fsd| 17800|\n",
      "|   sarthak|        it| 14900|\n",
      "|   bhargav|        it|  6700|\n",
      "|subhashree|       fsd| 13400|\n",
      "|     manas|blockchain| 15670|\n",
      "|   pritesh|blockchain| 13000|\n",
      "|     dhruv|        it|  5000|\n",
      "|     arnav|       fsd|   670|\n",
      "|subhashree|       fsd|  6500|\n",
      "+----------+----------+------+\n",
      "\n"
     ]
    }
   ],
   "source": [
    "df3.show()"
   ]
  },
  {
   "cell_type": "code",
   "execution_count": 69,
   "metadata": {},
   "outputs": [
    {
     "name": "stdout",
     "output_type": "stream",
     "text": [
      "+----------+----------+\n",
      "|      Name|Department|\n",
      "+----------+----------+\n",
      "|     dhruv|        it|\n",
      "|   pritesh|blockchain|\n",
      "|   advaith|blockchain|\n",
      "|     arnav|       fsd|\n",
      "|   sarthak|        it|\n",
      "|   bhargav|        it|\n",
      "|subhashree|       fsd|\n",
      "|     manas|blockchain|\n",
      "|   pritesh|blockchain|\n",
      "|     dhruv|        it|\n",
      "|     arnav|       fsd|\n",
      "|subhashree|       fsd|\n",
      "+----------+----------+\n",
      "\n"
     ]
    }
   ],
   "source": [
    "df3.select('Name','Department').show()"
   ]
  },
  {
   "cell_type": "code",
   "execution_count": 78,
   "metadata": {},
   "outputs": [
    {
     "ename": "AnalysisException",
     "evalue": "[UNRESOLVED_COLUMN.WITH_SUGGESTION] A column or function parameter with name `Profit` cannot be resolved. Did you mean one of the following? [` Profit `, `Month`, `Product Code`, `LAST NAME`, ` Sale Price `].;\n'Project [Month#730, 'Profit]\n+- Relation [Month#730,Transaction Number#731,Product Code#732,Product Description#733, Store Cost #734, Sale Price #735, Profit #736,Commision 10% for product less than 50$ and 20% for product more than 50$#737,FIRST NAME#738,LAST NAME#739,Sale Location#740] csv\n",
     "output_type": "error",
     "traceback": [
      "\u001b[0;31m---------------------------------------------------------------------------\u001b[0m",
      "\u001b[0;31mAnalysisException\u001b[0m                         Traceback (most recent call last)",
      "Cell \u001b[0;32mIn[78], line 1\u001b[0m\n\u001b[0;32m----> 1\u001b[0m df2\u001b[39m.\u001b[39;49mselect(\u001b[39m'\u001b[39;49m\u001b[39mMonth\u001b[39;49m\u001b[39m'\u001b[39;49m,\u001b[39m'\u001b[39;49m\u001b[39mProfit\u001b[39;49m\u001b[39m'\u001b[39;49m )\u001b[39m.\u001b[39mshow()\n",
      "File \u001b[0;32m/Library/Frameworks/Python.framework/Versions/3.10/lib/python3.10/site-packages/pyspark/sql/dataframe.py:3223\u001b[0m, in \u001b[0;36mDataFrame.select\u001b[0;34m(self, *cols)\u001b[0m\n\u001b[1;32m   3178\u001b[0m \u001b[39mdef\u001b[39;00m \u001b[39mselect\u001b[39m(\u001b[39mself\u001b[39m, \u001b[39m*\u001b[39mcols: \u001b[39m\"\u001b[39m\u001b[39mColumnOrName\u001b[39m\u001b[39m\"\u001b[39m) \u001b[39m-\u001b[39m\u001b[39m>\u001b[39m \u001b[39m\"\u001b[39m\u001b[39mDataFrame\u001b[39m\u001b[39m\"\u001b[39m:  \u001b[39m# type: ignore[misc]\u001b[39;00m\n\u001b[1;32m   3179\u001b[0m \u001b[39m    \u001b[39m\u001b[39m\"\"\"Projects a set of expressions and returns a new :class:`DataFrame`.\u001b[39;00m\n\u001b[1;32m   3180\u001b[0m \n\u001b[1;32m   3181\u001b[0m \u001b[39m    .. versionadded:: 1.3.0\u001b[39;00m\n\u001b[0;32m   (...)\u001b[0m\n\u001b[1;32m   3221\u001b[0m \u001b[39m    +-----+---+\u001b[39;00m\n\u001b[1;32m   3222\u001b[0m \u001b[39m    \"\"\"\u001b[39;00m\n\u001b[0;32m-> 3223\u001b[0m     jdf \u001b[39m=\u001b[39m \u001b[39mself\u001b[39;49m\u001b[39m.\u001b[39;49m_jdf\u001b[39m.\u001b[39;49mselect(\u001b[39mself\u001b[39;49m\u001b[39m.\u001b[39;49m_jcols(\u001b[39m*\u001b[39;49mcols))\n\u001b[1;32m   3224\u001b[0m     \u001b[39mreturn\u001b[39;00m DataFrame(jdf, \u001b[39mself\u001b[39m\u001b[39m.\u001b[39msparkSession)\n",
      "File \u001b[0;32m/Library/Frameworks/Python.framework/Versions/3.10/lib/python3.10/site-packages/py4j/java_gateway.py:1322\u001b[0m, in \u001b[0;36mJavaMember.__call__\u001b[0;34m(self, *args)\u001b[0m\n\u001b[1;32m   1316\u001b[0m command \u001b[39m=\u001b[39m proto\u001b[39m.\u001b[39mCALL_COMMAND_NAME \u001b[39m+\u001b[39m\\\n\u001b[1;32m   1317\u001b[0m     \u001b[39mself\u001b[39m\u001b[39m.\u001b[39mcommand_header \u001b[39m+\u001b[39m\\\n\u001b[1;32m   1318\u001b[0m     args_command \u001b[39m+\u001b[39m\\\n\u001b[1;32m   1319\u001b[0m     proto\u001b[39m.\u001b[39mEND_COMMAND_PART\n\u001b[1;32m   1321\u001b[0m answer \u001b[39m=\u001b[39m \u001b[39mself\u001b[39m\u001b[39m.\u001b[39mgateway_client\u001b[39m.\u001b[39msend_command(command)\n\u001b[0;32m-> 1322\u001b[0m return_value \u001b[39m=\u001b[39m get_return_value(\n\u001b[1;32m   1323\u001b[0m     answer, \u001b[39mself\u001b[39;49m\u001b[39m.\u001b[39;49mgateway_client, \u001b[39mself\u001b[39;49m\u001b[39m.\u001b[39;49mtarget_id, \u001b[39mself\u001b[39;49m\u001b[39m.\u001b[39;49mname)\n\u001b[1;32m   1325\u001b[0m \u001b[39mfor\u001b[39;00m temp_arg \u001b[39min\u001b[39;00m temp_args:\n\u001b[1;32m   1326\u001b[0m     \u001b[39mif\u001b[39;00m \u001b[39mhasattr\u001b[39m(temp_arg, \u001b[39m\"\u001b[39m\u001b[39m_detach\u001b[39m\u001b[39m\"\u001b[39m):\n",
      "File \u001b[0;32m/Library/Frameworks/Python.framework/Versions/3.10/lib/python3.10/site-packages/pyspark/errors/exceptions/captured.py:185\u001b[0m, in \u001b[0;36mcapture_sql_exception.<locals>.deco\u001b[0;34m(*a, **kw)\u001b[0m\n\u001b[1;32m    181\u001b[0m converted \u001b[39m=\u001b[39m convert_exception(e\u001b[39m.\u001b[39mjava_exception)\n\u001b[1;32m    182\u001b[0m \u001b[39mif\u001b[39;00m \u001b[39mnot\u001b[39;00m \u001b[39misinstance\u001b[39m(converted, UnknownException):\n\u001b[1;32m    183\u001b[0m     \u001b[39m# Hide where the exception came from that shows a non-Pythonic\u001b[39;00m\n\u001b[1;32m    184\u001b[0m     \u001b[39m# JVM exception message.\u001b[39;00m\n\u001b[0;32m--> 185\u001b[0m     \u001b[39mraise\u001b[39;00m converted \u001b[39mfrom\u001b[39;00m \u001b[39mNone\u001b[39m\n\u001b[1;32m    186\u001b[0m \u001b[39melse\u001b[39;00m:\n\u001b[1;32m    187\u001b[0m     \u001b[39mraise\u001b[39;00m\n",
      "\u001b[0;31mAnalysisException\u001b[0m: [UNRESOLVED_COLUMN.WITH_SUGGESTION] A column or function parameter with name `Profit` cannot be resolved. Did you mean one of the following? [` Profit `, `Month`, `Product Code`, `LAST NAME`, ` Sale Price `].;\n'Project [Month#730, 'Profit]\n+- Relation [Month#730,Transaction Number#731,Product Code#732,Product Description#733, Store Cost #734, Sale Price #735, Profit #736,Commision 10% for product less than 50$ and 20% for product more than 50$#737,FIRST NAME#738,LAST NAME#739,Sale Location#740] csv\n"
     ]
    }
   ],
   "source": [
    "df2.select('Month','Profit ).show()"
   ]
  },
  {
   "cell_type": "code",
   "execution_count": null,
   "metadata": {},
   "outputs": [],
   "source": []
  }
 ],
 "metadata": {
  "kernelspec": {
   "display_name": "Python 3",
   "language": "python",
   "name": "python3"
  },
  "language_info": {
   "codemirror_mode": {
    "name": "ipython",
    "version": 3
   },
   "file_extension": ".py",
   "mimetype": "text/x-python",
   "name": "python",
   "nbconvert_exporter": "python",
   "pygments_lexer": "ipython3",
   "version": "3.10.9"
  },
  "orig_nbformat": 4,
  "vscode": {
   "interpreter": {
    "hash": "98590ff4fe04c8543246b2a01debd3de3c5ca9b666f43f1fa87d5110c692004c"
   }
  }
 },
 "nbformat": 4,
 "nbformat_minor": 2
}
