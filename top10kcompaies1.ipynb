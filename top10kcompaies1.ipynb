{
 "cells": [
  {
   "cell_type": "code",
   "execution_count": null,
   "metadata": {},
   "outputs": [],
   "source": [
    "import pandas as pd\n",
    "import numpy as np\n",
    "import matplotlib.pyplot as plt\n",
    "\n",
    "df = pd.read_csv('/Users/dhruvbharara/Downloads/companies.csv')\n",
    "\n"
   ]
  },
  {
   "cell_type": "code",
   "execution_count": null,
   "metadata": {},
   "outputs": [],
   "source": [
    "def converted(Avg_salary):\n",
    "    if isinstance(Avg_salary,str):\n",
    "        if 'k' in Avg_salary:\n",
    "            return float(Avg_salary.replace('k',''))*1000\n",
    "        else:\n",
    "            return (Avg_salary)\n",
    "    else:\n",
    "        return Avg_salary"
   ]
  },
  {
   "cell_type": "code",
   "execution_count": null,
   "metadata": {},
   "outputs": [],
   "source": [
    "df['Avg_salary'] = df['Avg_salary'].apply(lambda x: converted(x))"
   ]
  },
  {
   "cell_type": "code",
   "execution_count": null,
   "metadata": {},
   "outputs": [],
   "source": [
    "df"
   ]
  },
  {
   "cell_type": "code",
   "execution_count": null,
   "metadata": {},
   "outputs": [],
   "source": [
    "df.Avg_salary.dtypes"
   ]
  },
  {
   "cell_type": "code",
   "execution_count": null,
   "metadata": {},
   "outputs": [],
   "source": [
    "df['Avg_salary'] = df['Avg_salary'].replace('--',0)\n"
   ]
  },
  {
   "cell_type": "code",
   "execution_count": null,
   "metadata": {},
   "outputs": [],
   "source": [
    "df['Avg_salary'] = df['Avg_salary'].astype(float)\n",
    "filt1 = (df['Avg_salary'] > 350000)\n",
    "\n"
   ]
  },
  {
   "cell_type": "code",
   "execution_count": null,
   "metadata": {},
   "outputs": [],
   "source": [
    "df.loc[filt1,['Company_name','Avg_salary']]"
   ]
  },
  {
   "cell_type": "code",
   "execution_count": null,
   "metadata": {},
   "outputs": [],
   "source": [
    "df.columns"
   ]
  },
  {
   "cell_type": "code",
   "execution_count": null,
   "metadata": {},
   "outputs": [],
   "source": [
    "def converted_interviews(Interviews_taken):\n",
    "    if isinstance(Interviews_taken,str):\n",
    "        if 'k' in Interviews_taken:\n",
    "            return float(Interviews_taken.replace('k',''))*1000\n",
    "        else:\n",
    "            return Interviews_taken\n",
    "    else:\n",
    "        return Interviews_taken\n",
    "    "
   ]
  },
  {
   "cell_type": "code",
   "execution_count": null,
   "metadata": {},
   "outputs": [],
   "source": [
    "df['Interviews_taken'] = df['Interviews_taken'].apply(lambda x: converted_interviews(x))"
   ]
  },
  {
   "cell_type": "code",
   "execution_count": null,
   "metadata": {},
   "outputs": [],
   "source": [
    "df.Interviews_taken"
   ]
  },
  {
   "cell_type": "code",
   "execution_count": null,
   "metadata": {},
   "outputs": [],
   "source": [
    "df['Interviews_taken'] = df['Interviews_taken'].replace('--',0)"
   ]
  },
  {
   "cell_type": "code",
   "execution_count": null,
   "metadata": {},
   "outputs": [],
   "source": [
    "df['Interviews_taken'] = df['Interviews_taken'].astype(\"float\")"
   ]
  },
  {
   "cell_type": "code",
   "execution_count": null,
   "metadata": {},
   "outputs": [],
   "source": [
    "filt2 = (df['Interviews_taken']>1000)"
   ]
  },
  {
   "cell_type": "code",
   "execution_count": null,
   "metadata": {},
   "outputs": [],
   "source": [
    "df.loc[filt2,['Company_name','Interviews_taken']]"
   ]
  },
  {
   "cell_type": "code",
   "execution_count": null,
   "metadata": {},
   "outputs": [],
   "source": [
    "def converted_reviews(Total_reviews):\n",
    "    if isinstance(Total_reviews,str):\n",
    "        if 'k' in Total_reviews:\n",
    "            return float(Total_reviews.replace('k', ''))*1000\n",
    "        else:\n",
    "            return Total_reviews\n",
    "    else:\n",
    "        return Total_reviews"
   ]
  },
  {
   "cell_type": "code",
   "execution_count": null,
   "metadata": {},
   "outputs": [],
   "source": [
    "df['Total_reviews'] = df['Total_reviews'].apply(lambda x: converted_reviews(x))"
   ]
  },
  {
   "cell_type": "code",
   "execution_count": null,
   "metadata": {},
   "outputs": [],
   "source": [
    "df.Total_reviews"
   ]
  },
  {
   "cell_type": "code",
   "execution_count": null,
   "metadata": {},
   "outputs": [],
   "source": [
    "df['Total_reviews'] = df['Total_reviews'].replace('--',0)"
   ]
  },
  {
   "cell_type": "code",
   "execution_count": null,
   "metadata": {},
   "outputs": [],
   "source": [
    "df['Total_reviews'] = df['Total_reviews'].astype(float)"
   ]
  },
  {
   "cell_type": "code",
   "execution_count": null,
   "metadata": {},
   "outputs": [],
   "source": [
    "filt3 = (df['Total_reviews'] > 20000)"
   ]
  },
  {
   "cell_type": "code",
   "execution_count": null,
   "metadata": {},
   "outputs": [],
   "source": [
    "df.loc[filt3,['Company_name','Total_reviews']]"
   ]
  },
  {
   "cell_type": "code",
   "execution_count": null,
   "metadata": {},
   "outputs": [],
   "source": [
    "df"
   ]
  },
  {
   "cell_type": "code",
   "execution_count": null,
   "metadata": {},
   "outputs": [],
   "source": [
    "def converted_jobs_available(Total_jobs_available\t):\n",
    "    if isinstance(Total_jobs_available,str):\n",
    "        if 'k' in Total_jobs_available\t:\n",
    "            return float(Total_jobs_available\t.replace('k', ''))*1000\n",
    "        else:\n",
    "            return Total_jobs_available\t\n",
    "    else:\n",
    "        return Total_jobs_available\t"
   ]
  },
  {
   "cell_type": "code",
   "execution_count": null,
   "metadata": {},
   "outputs": [],
   "source": [
    "df['Total_jobs_available'] = df['Total_jobs_available'].apply(lambda x: converted_jobs_available(x))"
   ]
  },
  {
   "cell_type": "code",
   "execution_count": null,
   "metadata": {},
   "outputs": [],
   "source": [
    "df['Total_jobs_available'] = df['Total_jobs_available'].replace('--',0)"
   ]
  },
  {
   "cell_type": "code",
   "execution_count": null,
   "metadata": {},
   "outputs": [],
   "source": [
    "df['Total_jobs_available'] = df['Total_jobs_available'].astype(float)"
   ]
  },
  {
   "cell_type": "code",
   "execution_count": null,
   "metadata": {},
   "outputs": [],
   "source": [
    "filt4 = (df['Total_jobs_available']>200)\n",
    "df.loc[filt4 , ['Company_name' , 'Total_jobs_available']]"
   ]
  },
  {
   "cell_type": "code",
   "execution_count": null,
   "metadata": {},
   "outputs": [],
   "source": [
    "df"
   ]
  },
  {
   "cell_type": "code",
   "execution_count": null,
   "metadata": {},
   "outputs": [],
   "source": [
    "def converted_mega_function(Total_benifits):\n",
    "    if isinstance(Total_benifits,str):\n",
    "        if 'k' in Total_benifits:\n",
    "            return float(Total_benifits.replace('k',''))*1000\n",
    "        elif '--' in Total_benifits:\n",
    "            return \"0\"\n",
    "        else:\n",
    "            return Total_benifits\n",
    "    else:\n",
    "        return Total_benifits\n",
    "\n"
   ]
  },
  {
   "cell_type": "code",
   "execution_count": null,
   "metadata": {},
   "outputs": [],
   "source": [
    "df['Total_benefits'] = df['Total_benefits'].apply(lambda x : converted_mega_function(x))"
   ]
  },
  {
   "cell_type": "code",
   "execution_count": null,
   "metadata": {},
   "outputs": [],
   "source": [
    "df['Total_benefits'] = df['Total_benefits'].astype(float)\n",
    "filt5 = (df['Total_benefits']>2000)\n",
    "df.loc[filt5,['Company_name','Total_benefits']]"
   ]
  },
  {
   "cell_type": "code",
   "execution_count": null,
   "metadata": {},
   "outputs": [],
   "source": [
    "filt_rating = (df['Highly_rated_for']).str.contains('Work Life Balance',na=False)  #this treats the missing values as false and so that they do not cause errors"
   ]
  },
  {
   "cell_type": "code",
   "execution_count": null,
   "metadata": {},
   "outputs": [],
   "source": [
    "df['Highly_rated_for'] = df['Highly_rated_for'].fillna('')\n"
   ]
  },
  {
   "cell_type": "code",
   "execution_count": null,
   "metadata": {},
   "outputs": [],
   "source": [
    "df.loc[filt_rating,['Company_name','Avg_salary']]"
   ]
  },
  {
   "cell_type": "code",
   "execution_count": null,
   "metadata": {},
   "outputs": [],
   "source": [
    "comp = df.loc[1:10, 'Company_name'].tolist()\n",
    "sal = df.loc[1:10, 'Avg_salary'].tolist()\n",
    "\n",
    "# Plotting\n",
    "plt.scatter(range(1, len(comp) + 1), sal, marker='o')  # Using company index on x-axis\n",
    "plt.xticks(range(1, len(comp) + 1), comp, rotation=45)  # Setting company names as x-axis labels with rotation\n",
    "plt.xlabel('Company')\n",
    "plt.ylabel('Average Salary')\n",
    "plt.title('Average salaries of top 10 companies')\n",
    "plt.tight_layout()\n",
    "plt.show()"
   ]
  },
  {
   "cell_type": "code",
   "execution_count": null,
   "metadata": {},
   "outputs": [],
   "source": [
    "df.loc[1:10,['Company_name','Avg_salary']]"
   ]
  },
  {
   "cell_type": "code",
   "execution_count": null,
   "metadata": {},
   "outputs": [],
   "source": [
    "df.columns"
   ]
  },
  {
   "cell_type": "code",
   "execution_count": null,
   "metadata": {},
   "outputs": [],
   "source": [
    "df.Interviews_taken\n",
    "df.Total_jobs_available"
   ]
  },
  {
   "cell_type": "code",
   "execution_count": null,
   "metadata": {},
   "outputs": [],
   "source": [
    "df.loc[1:10,'Interviews_taken']"
   ]
  },
  {
   "cell_type": "code",
   "execution_count": null,
   "metadata": {},
   "outputs": [],
   "source": [
    "df.Total_jobs_available.head(10)"
   ]
  },
  {
   "cell_type": "code",
   "execution_count": null,
   "metadata": {},
   "outputs": [],
   "source": []
  }
 ],
 "metadata": {
  "kernelspec": {
   "display_name": "Python 3",
   "language": "python",
   "name": "python3"
  },
  "language_info": {
   "codemirror_mode": {
    "name": "ipython",
    "version": 3
   },
   "file_extension": ".py",
   "mimetype": "text/x-python",
   "name": "python",
   "nbconvert_exporter": "python",
   "pygments_lexer": "ipython3",
   "version": "3.10.9"
  },
  "orig_nbformat": 4,
  "vscode": {
   "interpreter": {
    "hash": "98590ff4fe04c8543246b2a01debd3de3c5ca9b666f43f1fa87d5110c692004c"
   }
  }
 },
 "nbformat": 4,
 "nbformat_minor": 2
}
