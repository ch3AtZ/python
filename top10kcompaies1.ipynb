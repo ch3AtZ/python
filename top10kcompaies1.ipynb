{
 "cells": [
  {
   "cell_type": "code",
   "execution_count": null,
   "metadata": {},
   "outputs": [],
   "source": [
    "import pandas as pd\n",
    "import numpy as np\n",
    "\n",
    "df = pd.read_csv('/Users/dhruvbharara/Downloads/companies.csv')\n"
   ]
  },
  {
   "cell_type": "code",
   "execution_count": null,
   "metadata": {},
   "outputs": [],
   "source": [
    "df"
   ]
  },
  {
   "cell_type": "code",
   "execution_count": null,
   "metadata": {},
   "outputs": [],
   "source": [
    "def converted(Avg_salary):\n",
    "    if isinstance(Avg_salary,str):\n",
    "        if 'k' in Avg_salary:\n",
    "            return float(Avg_salary.replace('k',''))*1000\n",
    "        else:\n",
    "            return (Avg_salary)\n",
    "    else:\n",
    "        return Avg_salary"
   ]
  },
  {
   "cell_type": "code",
   "execution_count": null,
   "metadata": {},
   "outputs": [],
   "source": [
    "df['Avg_salary'] = df['Avg_salary'].apply(lambda x: converted(x))"
   ]
  },
  {
   "cell_type": "code",
   "execution_count": null,
   "metadata": {},
   "outputs": [],
   "source": [
    "df"
   ]
  },
  {
   "cell_type": "code",
   "execution_count": null,
   "metadata": {},
   "outputs": [],
   "source": [
    "df.Avg_salary.dtypes"
   ]
  },
  {
   "cell_type": "code",
   "execution_count": null,
   "metadata": {},
   "outputs": [],
   "source": [
    "df['Avg_salary'] = df['Avg_salary'].astype(float)"
   ]
  },
  {
   "cell_type": "code",
   "execution_count": null,
   "metadata": {},
   "outputs": [],
   "source": [
    "df['Avg_salary'] = pd.to_numeric(df['Avg_salary'])"
   ]
  },
  {
   "cell_type": "code",
   "execution_count": null,
   "metadata": {},
   "outputs": [],
   "source": [
    "df['Avg_salary'] = df['Avg_salary'].replace('--',0)"
   ]
  },
  {
   "cell_type": "code",
   "execution_count": null,
   "metadata": {},
   "outputs": [],
   "source": [
    "filt1 = (df['Avg_salary'] > 350000)\n"
   ]
  },
  {
   "cell_type": "code",
   "execution_count": null,
   "metadata": {},
   "outputs": [],
   "source": [
    "df.loc[filt1,['Company_name','Avg_salary']]"
   ]
  },
  {
   "cell_type": "code",
   "execution_count": null,
   "metadata": {},
   "outputs": [],
   "source": [
    "df.columns"
   ]
  },
  {
   "cell_type": "code",
   "execution_count": null,
   "metadata": {},
   "outputs": [],
   "source": [
    "def converted_interviews(Interviews_taken):\n",
    "    if isinstance(Interviews_taken,str):\n",
    "        if 'k' in Interviews_taken:\n",
    "            return float(Interviews_taken.replace('k',''))*1000\n",
    "        else:\n",
    "            return Interviews_taken\n",
    "    else:\n",
    "        return Interviews_taken\n",
    "    "
   ]
  },
  {
   "cell_type": "code",
   "execution_count": null,
   "metadata": {},
   "outputs": [],
   "source": [
    "df['Interviews_taken'] = df['Interviews_taken'].apply(lambda x: converted_interviews(x))"
   ]
  },
  {
   "cell_type": "code",
   "execution_count": null,
   "metadata": {},
   "outputs": [],
   "source": [
    "df.Interviews_taken"
   ]
  },
  {
   "cell_type": "code",
   "execution_count": null,
   "metadata": {},
   "outputs": [],
   "source": [
    "df['Interviews_taken'] = df['Interviews_taken'].replace('--',0)"
   ]
  },
  {
   "cell_type": "code",
   "execution_count": null,
   "metadata": {},
   "outputs": [],
   "source": [
    "df['Interviews_taken'] = df['Interviews_taken'].astype(\"float\")"
   ]
  },
  {
   "cell_type": "code",
   "execution_count": null,
   "metadata": {},
   "outputs": [],
   "source": [
    "filt2 = (df['Interviews_taken']>1000)"
   ]
  },
  {
   "cell_type": "code",
   "execution_count": null,
   "metadata": {},
   "outputs": [],
   "source": [
    "df.loc[filt2,['Company_name','Interviews_taken']]"
   ]
  },
  {
   "cell_type": "code",
   "execution_count": null,
   "metadata": {},
   "outputs": [],
   "source": [
    "def converted_reviews(Total_reviews):\n",
    "    if isinstance(Total_reviews,str):\n",
    "        if 'k' in Total_reviews:\n",
    "            return float(Total_reviews.replace('k', ''))*1000\n",
    "        else:\n",
    "            return Total_reviews\n",
    "    else:\n",
    "        return Total_reviews"
   ]
  },
  {
   "cell_type": "code",
   "execution_count": null,
   "metadata": {},
   "outputs": [],
   "source": [
    "df['Total_reviews'] = df['Total_reviews'].apply(lambda x: converted_reviews(x))"
   ]
  },
  {
   "cell_type": "code",
   "execution_count": null,
   "metadata": {},
   "outputs": [],
   "source": [
    "df.Total_reviews"
   ]
  },
  {
   "cell_type": "code",
   "execution_count": null,
   "metadata": {},
   "outputs": [],
   "source": [
    "df['Total_reviews'] = df['Total_reviews'].replace('--',0)"
   ]
  },
  {
   "cell_type": "code",
   "execution_count": null,
   "metadata": {},
   "outputs": [],
   "source": [
    "df['Total_reviews'] = df['Total_reviews'].astype(float)"
   ]
  },
  {
   "cell_type": "code",
   "execution_count": null,
   "metadata": {},
   "outputs": [],
   "source": [
    "filt3 = (df['Total_reviews'] > 20000)"
   ]
  },
  {
   "cell_type": "code",
   "execution_count": null,
   "metadata": {},
   "outputs": [],
   "source": [
    "df.loc[filt3,['Company_name','Total_reviews']]"
   ]
  },
  {
   "cell_type": "code",
   "execution_count": null,
   "metadata": {},
   "outputs": [],
   "source": [
    "df"
   ]
  },
  {
   "cell_type": "code",
   "execution_count": null,
   "metadata": {},
   "outputs": [],
   "source": [
    "def converted_jobs_available(Total_jobs_available\t):\n",
    "    if isinstance(Total_jobs_available,str):\n",
    "        if 'k' in Total_jobs_available\t:\n",
    "            return float(Total_jobs_available\t.replace('k', ''))*1000\n",
    "        else:\n",
    "            return Total_jobs_available\t\n",
    "    else:\n",
    "        return Total_jobs_available\t"
   ]
  },
  {
   "cell_type": "code",
   "execution_count": null,
   "metadata": {},
   "outputs": [],
   "source": [
    "df['Total_jobs_available'] = df['Total_jobs_available'].apply(lambda x: converted_jobs_available(x))"
   ]
  },
  {
   "cell_type": "code",
   "execution_count": null,
   "metadata": {},
   "outputs": [],
   "source": [
    "df['Total_jobs_available'] = df['Total_jobs_available'].replace('--',0)"
   ]
  },
  {
   "cell_type": "code",
   "execution_count": null,
   "metadata": {},
   "outputs": [],
   "source": [
    "df['Total_jobs_available'] = df['Total_jobs_available'].astype(float)"
   ]
  },
  {
   "cell_type": "code",
   "execution_count": null,
   "metadata": {},
   "outputs": [],
   "source": [
    "filt4 = (df['Total_jobs_available']>200)\n",
    "df.loc[filt4 , ['Company_name' , 'Total_jobs_available']]"
   ]
  },
  {
   "cell_type": "code",
   "execution_count": null,
   "metadata": {},
   "outputs": [],
   "source": [
    "df"
   ]
  },
  {
   "cell_type": "code",
   "execution_count": null,
   "metadata": {},
   "outputs": [],
   "source": [
    "def converted_mega_function(Total_benifits):\n",
    "    if isinstance(Total_benifits,str):\n",
    "        if 'k' in Total_benifits:\n",
    "            return float(Total_benifits.replace('k',''))*1000\n",
    "        elif '--' in Total_benifits:\n",
    "            return \"0\"\n",
    "        else:\n",
    "            return Total_benifits\n",
    "    else:\n",
    "        return Total_benifits\n",
    "\n"
   ]
  },
  {
   "cell_type": "code",
   "execution_count": null,
   "metadata": {},
   "outputs": [],
   "source": [
    "df['Total_benefits'] = df['Total_benefits'].apply(lambda x : converted_mega_function(x))"
   ]
  },
  {
   "cell_type": "code",
   "execution_count": null,
   "metadata": {},
   "outputs": [],
   "source": [
    "df['Total_benefits'] = df['Total_benefits'].astype(float)\n",
    "filt5 = (df['Total_benefits']>2000)\n",
    "df.loc[filt5,['Company_name','Total_benefits']]"
   ]
  },
  {
   "cell_type": "code",
   "execution_count": null,
   "metadata": {},
   "outputs": [],
   "source": [
    "filt_rating = (df['Highly_rated_for']).str.contains('Work Life Balance',na=False)  #this treats the missing values as false and so that they do not cause errors"
   ]
  },
  {
   "cell_type": "code",
   "execution_count": null,
   "metadata": {},
   "outputs": [],
   "source": [
    "df['Highly_rated_for'] = df['Highly_rated_for'].fillna('')\n"
   ]
  },
  {
   "cell_type": "code",
   "execution_count": 105,
   "metadata": {},
   "outputs": [
    {
     "data": {
      "text/html": [
       "<div>\n",
       "<style scoped>\n",
       "    .dataframe tbody tr th:only-of-type {\n",
       "        vertical-align: middle;\n",
       "    }\n",
       "\n",
       "    .dataframe tbody tr th {\n",
       "        vertical-align: top;\n",
       "    }\n",
       "\n",
       "    .dataframe thead th {\n",
       "        text-align: right;\n",
       "    }\n",
       "</style>\n",
       "<table border=\"1\" class=\"dataframe\">\n",
       "  <thead>\n",
       "    <tr style=\"text-align: right;\">\n",
       "      <th></th>\n",
       "      <th>Company_name</th>\n",
       "      <th>Avg_salary</th>\n",
       "    </tr>\n",
       "  </thead>\n",
       "  <tbody>\n",
       "    <tr>\n",
       "      <th>0</th>\n",
       "      <td>TCS</td>\n",
       "      <td>856900.0</td>\n",
       "    </tr>\n",
       "    <tr>\n",
       "      <th>4</th>\n",
       "      <td>Capgemini</td>\n",
       "      <td>414400.0</td>\n",
       "    </tr>\n",
       "    <tr>\n",
       "      <th>10</th>\n",
       "      <td>Genpact</td>\n",
       "      <td>190400.0</td>\n",
       "    </tr>\n",
       "    <tr>\n",
       "      <th>15</th>\n",
       "      <td>Amazon</td>\n",
       "      <td>125200.0</td>\n",
       "    </tr>\n",
       "    <tr>\n",
       "      <th>16</th>\n",
       "      <td>IBM</td>\n",
       "      <td>221500.0</td>\n",
       "    </tr>\n",
       "    <tr>\n",
       "      <th>...</th>\n",
       "      <td>...</td>\n",
       "      <td>...</td>\n",
       "    </tr>\n",
       "    <tr>\n",
       "      <th>9993</th>\n",
       "      <td>Modern Public School</td>\n",
       "      <td>361.0</td>\n",
       "    </tr>\n",
       "    <tr>\n",
       "      <th>9994</th>\n",
       "      <td>MediaTek India Technology</td>\n",
       "      <td>938.0</td>\n",
       "    </tr>\n",
       "    <tr>\n",
       "      <th>9995</th>\n",
       "      <td>Techila Global Services</td>\n",
       "      <td>454.0</td>\n",
       "    </tr>\n",
       "    <tr>\n",
       "      <th>9996</th>\n",
       "      <td>RxLogix Corporation</td>\n",
       "      <td>799.0</td>\n",
       "    </tr>\n",
       "    <tr>\n",
       "      <th>9999</th>\n",
       "      <td>Beroe Inc</td>\n",
       "      <td>585.0</td>\n",
       "    </tr>\n",
       "  </tbody>\n",
       "</table>\n",
       "<p>4055 rows × 2 columns</p>\n",
       "</div>"
      ],
      "text/plain": [
       "                   Company_name  Avg_salary\n",
       "0                           TCS    856900.0\n",
       "4                     Capgemini    414400.0\n",
       "10                      Genpact    190400.0\n",
       "15                       Amazon    125200.0\n",
       "16                          IBM    221500.0\n",
       "...                         ...         ...\n",
       "9993       Modern Public School       361.0\n",
       "9994  MediaTek India Technology       938.0\n",
       "9995    Techila Global Services       454.0\n",
       "9996        RxLogix Corporation       799.0\n",
       "9999                  Beroe Inc       585.0\n",
       "\n",
       "[4055 rows x 2 columns]"
      ]
     },
     "execution_count": 105,
     "metadata": {},
     "output_type": "execute_result"
    }
   ],
   "source": [
    "df.loc[filt_rating,['Company_name','Avg_salary']]"
   ]
  },
  {
   "cell_type": "code",
   "execution_count": 99,
   "metadata": {},
   "outputs": [
    {
     "data": {
      "text/html": [
       "<div>\n",
       "<style scoped>\n",
       "    .dataframe tbody tr th:only-of-type {\n",
       "        vertical-align: middle;\n",
       "    }\n",
       "\n",
       "    .dataframe tbody tr th {\n",
       "        vertical-align: top;\n",
       "    }\n",
       "\n",
       "    .dataframe thead th {\n",
       "        text-align: right;\n",
       "    }\n",
       "</style>\n",
       "<table border=\"1\" class=\"dataframe\">\n",
       "  <thead>\n",
       "    <tr style=\"text-align: right;\">\n",
       "      <th></th>\n",
       "      <th>Company_name</th>\n",
       "      <th>Description</th>\n",
       "      <th>Ratings</th>\n",
       "      <th>Highly_rated_for</th>\n",
       "      <th>Critically_rated_for</th>\n",
       "      <th>Total_reviews</th>\n",
       "      <th>Avg_salary</th>\n",
       "      <th>Interviews_taken</th>\n",
       "      <th>Total_jobs_available</th>\n",
       "      <th>Total_benefits</th>\n",
       "    </tr>\n",
       "  </thead>\n",
       "  <tbody>\n",
       "    <tr>\n",
       "      <th>0</th>\n",
       "      <td>TCS</td>\n",
       "      <td>IT Services &amp; Consulting | 1 Lakh+ Employees |...</td>\n",
       "      <td>3.8</td>\n",
       "      <td>Job Security, Work Life Balance</td>\n",
       "      <td>Promotions / Appraisal, Salary &amp; Benefits</td>\n",
       "      <td>73100.0</td>\n",
       "      <td>856900.0</td>\n",
       "      <td>6100.0</td>\n",
       "      <td>847.0</td>\n",
       "      <td>11500.0</td>\n",
       "    </tr>\n",
       "    <tr>\n",
       "      <th>1</th>\n",
       "      <td>Accenture</td>\n",
       "      <td>IT Services &amp; Consulting | 1 Lakh+ Employees |...</td>\n",
       "      <td>4.0</td>\n",
       "      <td>Company Culture, Skill Development / Learning,...</td>\n",
       "      <td>NaN</td>\n",
       "      <td>46400.0</td>\n",
       "      <td>584600.0</td>\n",
       "      <td>4300.0</td>\n",
       "      <td>9900.0</td>\n",
       "      <td>7100.0</td>\n",
       "    </tr>\n",
       "    <tr>\n",
       "      <th>2</th>\n",
       "      <td>Cognizant</td>\n",
       "      <td>IT Services &amp; Consulting | 1 Lakh+ Employees |...</td>\n",
       "      <td>3.9</td>\n",
       "      <td>Skill Development / Learning</td>\n",
       "      <td>Promotions / Appraisal</td>\n",
       "      <td>41700.0</td>\n",
       "      <td>561500.0</td>\n",
       "      <td>3600.0</td>\n",
       "      <td>460.0</td>\n",
       "      <td>5800.0</td>\n",
       "    </tr>\n",
       "    <tr>\n",
       "      <th>3</th>\n",
       "      <td>Wipro</td>\n",
       "      <td>IT Services &amp; Consulting | 1 Lakh+ Employees |...</td>\n",
       "      <td>3.8</td>\n",
       "      <td>Job Security</td>\n",
       "      <td>Promotions / Appraisal, Salary &amp; Benefits</td>\n",
       "      <td>39200.0</td>\n",
       "      <td>427400.0</td>\n",
       "      <td>3700.0</td>\n",
       "      <td>405.0</td>\n",
       "      <td>5000.0</td>\n",
       "    </tr>\n",
       "    <tr>\n",
       "      <th>4</th>\n",
       "      <td>Capgemini</td>\n",
       "      <td>IT Services &amp; Consulting | 1 Lakh+ Employees |...</td>\n",
       "      <td>3.9</td>\n",
       "      <td>Job Security, Work Life Balance, Skill Develop...</td>\n",
       "      <td>Promotions / Appraisal, Salary &amp; Benefits</td>\n",
       "      <td>34000.0</td>\n",
       "      <td>414400.0</td>\n",
       "      <td>2800.0</td>\n",
       "      <td>719.0</td>\n",
       "      <td>4000.0</td>\n",
       "    </tr>\n",
       "    <tr>\n",
       "      <th>...</th>\n",
       "      <td>...</td>\n",
       "      <td>...</td>\n",
       "      <td>...</td>\n",
       "      <td>...</td>\n",
       "      <td>...</td>\n",
       "      <td>...</td>\n",
       "      <td>...</td>\n",
       "      <td>...</td>\n",
       "      <td>...</td>\n",
       "      <td>...</td>\n",
       "    </tr>\n",
       "    <tr>\n",
       "      <th>9995</th>\n",
       "      <td>Techila Global Services</td>\n",
       "      <td>IT Services &amp; Consulting | 501-1k Employees | ...</td>\n",
       "      <td>3.7</td>\n",
       "      <td>Work Life Balance, Salary &amp; Benefits, Company ...</td>\n",
       "      <td>NaN</td>\n",
       "      <td>72.0</td>\n",
       "      <td>454.0</td>\n",
       "      <td>2.0</td>\n",
       "      <td>26.0</td>\n",
       "      <td>21.0</td>\n",
       "    </tr>\n",
       "    <tr>\n",
       "      <th>9996</th>\n",
       "      <td>RxLogix Corporation</td>\n",
       "      <td>Pharma | 201-500 Employees | 14 years old | Pr...</td>\n",
       "      <td>2.6</td>\n",
       "      <td>Work Life Balance, Work Satisfaction, Company ...</td>\n",
       "      <td>NaN</td>\n",
       "      <td>72.0</td>\n",
       "      <td>799.0</td>\n",
       "      <td>15.0</td>\n",
       "      <td>9.0</td>\n",
       "      <td>13.0</td>\n",
       "    </tr>\n",
       "    <tr>\n",
       "      <th>9997</th>\n",
       "      <td>Avians Innovations Technology</td>\n",
       "      <td>Building Material | 51-200 Employees | 17 year...</td>\n",
       "      <td>3.7</td>\n",
       "      <td>Promotions / Appraisal, Work Satisfaction, Sal...</td>\n",
       "      <td>NaN</td>\n",
       "      <td>72.0</td>\n",
       "      <td>489.0</td>\n",
       "      <td>3.0</td>\n",
       "      <td>11.0</td>\n",
       "      <td>8.0</td>\n",
       "    </tr>\n",
       "    <tr>\n",
       "      <th>9998</th>\n",
       "      <td>ACPL Systems</td>\n",
       "      <td>Law Enforcement &amp; Security | 51-200 Employees ...</td>\n",
       "      <td>3.3</td>\n",
       "      <td>Promotions / Appraisal, Salary &amp; Benefits, Wor...</td>\n",
       "      <td>NaN</td>\n",
       "      <td>72.0</td>\n",
       "      <td>520.0</td>\n",
       "      <td>4.0</td>\n",
       "      <td>1.0</td>\n",
       "      <td>10.0</td>\n",
       "    </tr>\n",
       "    <tr>\n",
       "      <th>9999</th>\n",
       "      <td>Beroe Inc</td>\n",
       "      <td>Management Consulting | 201-500 Employees | 19...</td>\n",
       "      <td>4.5</td>\n",
       "      <td>Work Life Balance, Job Security, Company Culture</td>\n",
       "      <td>NaN</td>\n",
       "      <td>72.0</td>\n",
       "      <td>585.0</td>\n",
       "      <td>7.0</td>\n",
       "      <td>5.0</td>\n",
       "      <td>14.0</td>\n",
       "    </tr>\n",
       "  </tbody>\n",
       "</table>\n",
       "<p>10000 rows × 10 columns</p>\n",
       "</div>"
      ],
      "text/plain": [
       "                       Company_name  \\\n",
       "0                               TCS   \n",
       "1                         Accenture   \n",
       "2                         Cognizant   \n",
       "3                             Wipro   \n",
       "4                         Capgemini   \n",
       "...                             ...   \n",
       "9995        Techila Global Services   \n",
       "9996            RxLogix Corporation   \n",
       "9997  Avians Innovations Technology   \n",
       "9998                   ACPL Systems   \n",
       "9999                      Beroe Inc   \n",
       "\n",
       "                                            Description  Ratings  \\\n",
       "0     IT Services & Consulting | 1 Lakh+ Employees |...      3.8   \n",
       "1     IT Services & Consulting | 1 Lakh+ Employees |...      4.0   \n",
       "2     IT Services & Consulting | 1 Lakh+ Employees |...      3.9   \n",
       "3     IT Services & Consulting | 1 Lakh+ Employees |...      3.8   \n",
       "4     IT Services & Consulting | 1 Lakh+ Employees |...      3.9   \n",
       "...                                                 ...      ...   \n",
       "9995  IT Services & Consulting | 501-1k Employees | ...      3.7   \n",
       "9996  Pharma | 201-500 Employees | 14 years old | Pr...      2.6   \n",
       "9997  Building Material | 51-200 Employees | 17 year...      3.7   \n",
       "9998  Law Enforcement & Security | 51-200 Employees ...      3.3   \n",
       "9999  Management Consulting | 201-500 Employees | 19...      4.5   \n",
       "\n",
       "                                       Highly_rated_for  \\\n",
       "0                       Job Security, Work Life Balance   \n",
       "1     Company Culture, Skill Development / Learning,...   \n",
       "2                          Skill Development / Learning   \n",
       "3                                          Job Security   \n",
       "4     Job Security, Work Life Balance, Skill Develop...   \n",
       "...                                                 ...   \n",
       "9995  Work Life Balance, Salary & Benefits, Company ...   \n",
       "9996  Work Life Balance, Work Satisfaction, Company ...   \n",
       "9997  Promotions / Appraisal, Work Satisfaction, Sal...   \n",
       "9998  Promotions / Appraisal, Salary & Benefits, Wor...   \n",
       "9999   Work Life Balance, Job Security, Company Culture   \n",
       "\n",
       "                           Critically_rated_for  Total_reviews  Avg_salary  \\\n",
       "0     Promotions / Appraisal, Salary & Benefits        73100.0    856900.0   \n",
       "1                                           NaN        46400.0    584600.0   \n",
       "2                        Promotions / Appraisal        41700.0    561500.0   \n",
       "3     Promotions / Appraisal, Salary & Benefits        39200.0    427400.0   \n",
       "4     Promotions / Appraisal, Salary & Benefits        34000.0    414400.0   \n",
       "...                                         ...            ...         ...   \n",
       "9995                                        NaN           72.0       454.0   \n",
       "9996                                        NaN           72.0       799.0   \n",
       "9997                                        NaN           72.0       489.0   \n",
       "9998                                        NaN           72.0       520.0   \n",
       "9999                                        NaN           72.0       585.0   \n",
       "\n",
       "      Interviews_taken  Total_jobs_available  Total_benefits  \n",
       "0               6100.0                 847.0         11500.0  \n",
       "1               4300.0                9900.0          7100.0  \n",
       "2               3600.0                 460.0          5800.0  \n",
       "3               3700.0                 405.0          5000.0  \n",
       "4               2800.0                 719.0          4000.0  \n",
       "...                ...                   ...             ...  \n",
       "9995               2.0                  26.0            21.0  \n",
       "9996              15.0                   9.0            13.0  \n",
       "9997               3.0                  11.0             8.0  \n",
       "9998               4.0                   1.0            10.0  \n",
       "9999               7.0                   5.0            14.0  \n",
       "\n",
       "[10000 rows x 10 columns]"
      ]
     },
     "execution_count": 99,
     "metadata": {},
     "output_type": "execute_result"
    }
   ],
   "source": [
    "df"
   ]
  },
  {
   "cell_type": "code",
   "execution_count": 102,
   "metadata": {},
   "outputs": [],
   "source": []
  },
  {
   "cell_type": "code",
   "execution_count": 103,
   "metadata": {},
   "outputs": [
    {
     "data": {
      "text/html": [
       "<div>\n",
       "<style scoped>\n",
       "    .dataframe tbody tr th:only-of-type {\n",
       "        vertical-align: middle;\n",
       "    }\n",
       "\n",
       "    .dataframe tbody tr th {\n",
       "        vertical-align: top;\n",
       "    }\n",
       "\n",
       "    .dataframe thead th {\n",
       "        text-align: right;\n",
       "    }\n",
       "</style>\n",
       "<table border=\"1\" class=\"dataframe\">\n",
       "  <thead>\n",
       "    <tr style=\"text-align: right;\">\n",
       "      <th></th>\n",
       "      <th>Company_name</th>\n",
       "      <th>Description</th>\n",
       "      <th>Ratings</th>\n",
       "      <th>Highly_rated_for</th>\n",
       "      <th>Critically_rated_for</th>\n",
       "      <th>Total_reviews</th>\n",
       "      <th>Avg_salary</th>\n",
       "      <th>Interviews_taken</th>\n",
       "      <th>Total_jobs_available</th>\n",
       "      <th>Total_benefits</th>\n",
       "    </tr>\n",
       "  </thead>\n",
       "  <tbody>\n",
       "    <tr>\n",
       "      <th>0</th>\n",
       "      <td>TCS</td>\n",
       "      <td>IT Services &amp; Consulting | 1 Lakh+ Employees |...</td>\n",
       "      <td>3.8</td>\n",
       "      <td>Job Security, Work Life Balance</td>\n",
       "      <td>Promotions / Appraisal, Salary &amp; Benefits</td>\n",
       "      <td>73100.0</td>\n",
       "      <td>856900.0</td>\n",
       "      <td>6100.0</td>\n",
       "      <td>847.0</td>\n",
       "      <td>11500.0</td>\n",
       "    </tr>\n",
       "    <tr>\n",
       "      <th>1</th>\n",
       "      <td>Accenture</td>\n",
       "      <td>IT Services &amp; Consulting | 1 Lakh+ Employees |...</td>\n",
       "      <td>4.0</td>\n",
       "      <td>Company Culture, Skill Development / Learning,...</td>\n",
       "      <td>NaN</td>\n",
       "      <td>46400.0</td>\n",
       "      <td>584600.0</td>\n",
       "      <td>4300.0</td>\n",
       "      <td>9900.0</td>\n",
       "      <td>7100.0</td>\n",
       "    </tr>\n",
       "    <tr>\n",
       "      <th>2</th>\n",
       "      <td>Cognizant</td>\n",
       "      <td>IT Services &amp; Consulting | 1 Lakh+ Employees |...</td>\n",
       "      <td>3.9</td>\n",
       "      <td>Skill Development / Learning</td>\n",
       "      <td>Promotions / Appraisal</td>\n",
       "      <td>41700.0</td>\n",
       "      <td>561500.0</td>\n",
       "      <td>3600.0</td>\n",
       "      <td>460.0</td>\n",
       "      <td>5800.0</td>\n",
       "    </tr>\n",
       "    <tr>\n",
       "      <th>3</th>\n",
       "      <td>Wipro</td>\n",
       "      <td>IT Services &amp; Consulting | 1 Lakh+ Employees |...</td>\n",
       "      <td>3.8</td>\n",
       "      <td>Job Security</td>\n",
       "      <td>Promotions / Appraisal, Salary &amp; Benefits</td>\n",
       "      <td>39200.0</td>\n",
       "      <td>427400.0</td>\n",
       "      <td>3700.0</td>\n",
       "      <td>405.0</td>\n",
       "      <td>5000.0</td>\n",
       "    </tr>\n",
       "    <tr>\n",
       "      <th>4</th>\n",
       "      <td>Capgemini</td>\n",
       "      <td>IT Services &amp; Consulting | 1 Lakh+ Employees |...</td>\n",
       "      <td>3.9</td>\n",
       "      <td>Job Security, Work Life Balance, Skill Develop...</td>\n",
       "      <td>Promotions / Appraisal, Salary &amp; Benefits</td>\n",
       "      <td>34000.0</td>\n",
       "      <td>414400.0</td>\n",
       "      <td>2800.0</td>\n",
       "      <td>719.0</td>\n",
       "      <td>4000.0</td>\n",
       "    </tr>\n",
       "    <tr>\n",
       "      <th>...</th>\n",
       "      <td>...</td>\n",
       "      <td>...</td>\n",
       "      <td>...</td>\n",
       "      <td>...</td>\n",
       "      <td>...</td>\n",
       "      <td>...</td>\n",
       "      <td>...</td>\n",
       "      <td>...</td>\n",
       "      <td>...</td>\n",
       "      <td>...</td>\n",
       "    </tr>\n",
       "    <tr>\n",
       "      <th>9995</th>\n",
       "      <td>Techila Global Services</td>\n",
       "      <td>IT Services &amp; Consulting | 501-1k Employees | ...</td>\n",
       "      <td>3.7</td>\n",
       "      <td>Work Life Balance, Salary &amp; Benefits, Company ...</td>\n",
       "      <td>NaN</td>\n",
       "      <td>72.0</td>\n",
       "      <td>454.0</td>\n",
       "      <td>2.0</td>\n",
       "      <td>26.0</td>\n",
       "      <td>21.0</td>\n",
       "    </tr>\n",
       "    <tr>\n",
       "      <th>9996</th>\n",
       "      <td>RxLogix Corporation</td>\n",
       "      <td>Pharma | 201-500 Employees | 14 years old | Pr...</td>\n",
       "      <td>2.6</td>\n",
       "      <td>Work Life Balance, Work Satisfaction, Company ...</td>\n",
       "      <td>NaN</td>\n",
       "      <td>72.0</td>\n",
       "      <td>799.0</td>\n",
       "      <td>15.0</td>\n",
       "      <td>9.0</td>\n",
       "      <td>13.0</td>\n",
       "    </tr>\n",
       "    <tr>\n",
       "      <th>9997</th>\n",
       "      <td>Avians Innovations Technology</td>\n",
       "      <td>Building Material | 51-200 Employees | 17 year...</td>\n",
       "      <td>3.7</td>\n",
       "      <td>Promotions / Appraisal, Work Satisfaction, Sal...</td>\n",
       "      <td>NaN</td>\n",
       "      <td>72.0</td>\n",
       "      <td>489.0</td>\n",
       "      <td>3.0</td>\n",
       "      <td>11.0</td>\n",
       "      <td>8.0</td>\n",
       "    </tr>\n",
       "    <tr>\n",
       "      <th>9998</th>\n",
       "      <td>ACPL Systems</td>\n",
       "      <td>Law Enforcement &amp; Security | 51-200 Employees ...</td>\n",
       "      <td>3.3</td>\n",
       "      <td>Promotions / Appraisal, Salary &amp; Benefits, Wor...</td>\n",
       "      <td>NaN</td>\n",
       "      <td>72.0</td>\n",
       "      <td>520.0</td>\n",
       "      <td>4.0</td>\n",
       "      <td>1.0</td>\n",
       "      <td>10.0</td>\n",
       "    </tr>\n",
       "    <tr>\n",
       "      <th>9999</th>\n",
       "      <td>Beroe Inc</td>\n",
       "      <td>Management Consulting | 201-500 Employees | 19...</td>\n",
       "      <td>4.5</td>\n",
       "      <td>Work Life Balance, Job Security, Company Culture</td>\n",
       "      <td>NaN</td>\n",
       "      <td>72.0</td>\n",
       "      <td>585.0</td>\n",
       "      <td>7.0</td>\n",
       "      <td>5.0</td>\n",
       "      <td>14.0</td>\n",
       "    </tr>\n",
       "  </tbody>\n",
       "</table>\n",
       "<p>10000 rows × 10 columns</p>\n",
       "</div>"
      ],
      "text/plain": [
       "                       Company_name  \\\n",
       "0                               TCS   \n",
       "1                         Accenture   \n",
       "2                         Cognizant   \n",
       "3                             Wipro   \n",
       "4                         Capgemini   \n",
       "...                             ...   \n",
       "9995        Techila Global Services   \n",
       "9996            RxLogix Corporation   \n",
       "9997  Avians Innovations Technology   \n",
       "9998                   ACPL Systems   \n",
       "9999                      Beroe Inc   \n",
       "\n",
       "                                            Description  Ratings  \\\n",
       "0     IT Services & Consulting | 1 Lakh+ Employees |...      3.8   \n",
       "1     IT Services & Consulting | 1 Lakh+ Employees |...      4.0   \n",
       "2     IT Services & Consulting | 1 Lakh+ Employees |...      3.9   \n",
       "3     IT Services & Consulting | 1 Lakh+ Employees |...      3.8   \n",
       "4     IT Services & Consulting | 1 Lakh+ Employees |...      3.9   \n",
       "...                                                 ...      ...   \n",
       "9995  IT Services & Consulting | 501-1k Employees | ...      3.7   \n",
       "9996  Pharma | 201-500 Employees | 14 years old | Pr...      2.6   \n",
       "9997  Building Material | 51-200 Employees | 17 year...      3.7   \n",
       "9998  Law Enforcement & Security | 51-200 Employees ...      3.3   \n",
       "9999  Management Consulting | 201-500 Employees | 19...      4.5   \n",
       "\n",
       "                                       Highly_rated_for  \\\n",
       "0                       Job Security, Work Life Balance   \n",
       "1     Company Culture, Skill Development / Learning,...   \n",
       "2                          Skill Development / Learning   \n",
       "3                                          Job Security   \n",
       "4     Job Security, Work Life Balance, Skill Develop...   \n",
       "...                                                 ...   \n",
       "9995  Work Life Balance, Salary & Benefits, Company ...   \n",
       "9996  Work Life Balance, Work Satisfaction, Company ...   \n",
       "9997  Promotions / Appraisal, Work Satisfaction, Sal...   \n",
       "9998  Promotions / Appraisal, Salary & Benefits, Wor...   \n",
       "9999   Work Life Balance, Job Security, Company Culture   \n",
       "\n",
       "                           Critically_rated_for  Total_reviews  Avg_salary  \\\n",
       "0     Promotions / Appraisal, Salary & Benefits        73100.0    856900.0   \n",
       "1                                           NaN        46400.0    584600.0   \n",
       "2                        Promotions / Appraisal        41700.0    561500.0   \n",
       "3     Promotions / Appraisal, Salary & Benefits        39200.0    427400.0   \n",
       "4     Promotions / Appraisal, Salary & Benefits        34000.0    414400.0   \n",
       "...                                         ...            ...         ...   \n",
       "9995                                        NaN           72.0       454.0   \n",
       "9996                                        NaN           72.0       799.0   \n",
       "9997                                        NaN           72.0       489.0   \n",
       "9998                                        NaN           72.0       520.0   \n",
       "9999                                        NaN           72.0       585.0   \n",
       "\n",
       "      Interviews_taken  Total_jobs_available  Total_benefits  \n",
       "0               6100.0                 847.0         11500.0  \n",
       "1               4300.0                9900.0          7100.0  \n",
       "2               3600.0                 460.0          5800.0  \n",
       "3               3700.0                 405.0          5000.0  \n",
       "4               2800.0                 719.0          4000.0  \n",
       "...                ...                   ...             ...  \n",
       "9995               2.0                  26.0            21.0  \n",
       "9996              15.0                   9.0            13.0  \n",
       "9997               3.0                  11.0             8.0  \n",
       "9998               4.0                   1.0            10.0  \n",
       "9999               7.0                   5.0            14.0  \n",
       "\n",
       "[10000 rows x 10 columns]"
      ]
     },
     "execution_count": 103,
     "metadata": {},
     "output_type": "execute_result"
    }
   ],
   "source": [
    "df"
   ]
  },
  {
   "cell_type": "code",
   "execution_count": null,
   "metadata": {},
   "outputs": [],
   "source": []
  }
 ],
 "metadata": {
  "kernelspec": {
   "display_name": "Python 3",
   "language": "python",
   "name": "python3"
  },
  "language_info": {
   "codemirror_mode": {
    "name": "ipython",
    "version": 3
   },
   "file_extension": ".py",
   "mimetype": "text/x-python",
   "name": "python",
   "nbconvert_exporter": "python",
   "pygments_lexer": "ipython3",
   "version": "3.10.9"
  },
  "orig_nbformat": 4,
  "vscode": {
   "interpreter": {
    "hash": "98590ff4fe04c8543246b2a01debd3de3c5ca9b666f43f1fa87d5110c692004c"
   }
  }
 },
 "nbformat": 4,
 "nbformat_minor": 2
}
