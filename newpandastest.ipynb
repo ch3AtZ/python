{
 "cells": [
  {
   "cell_type": "code",
   "execution_count": 2,
   "metadata": {},
   "outputs": [],
   "source": [
    "import pandas as pd"
   ]
  },
  {
   "cell_type": "code",
   "execution_count": 3,
   "metadata": {},
   "outputs": [
    {
     "name": "stdout",
     "output_type": "stream",
     "text": [
      "       Respondent                                         MainBranch Hobbyist  \\\n",
      "0               1             I am a student who is learning to code      Yes   \n",
      "1               2             I am a student who is learning to code       No   \n",
      "2               3  I am not primarily a developer, but I write co...      Yes   \n",
      "3               4                     I am a developer by profession       No   \n",
      "4               5                     I am a developer by profession      Yes   \n",
      "...           ...                                                ...      ...   \n",
      "88878       88377                                                NaN      Yes   \n",
      "88879       88601                                                NaN       No   \n",
      "88880       88802                                                NaN       No   \n",
      "88881       88816                                                NaN       No   \n",
      "88882       88863                                                NaN      Yes   \n",
      "\n",
      "                                             OpenSourcer  \\\n",
      "0                                                  Never   \n",
      "1                                Less than once per year   \n",
      "2                                                  Never   \n",
      "3                                                  Never   \n",
      "4                             Once a month or more often   \n",
      "...                                                  ...   \n",
      "88878  Less than once a month but more than once per ...   \n",
      "88879                                              Never   \n",
      "88880                                              Never   \n",
      "88881                                              Never   \n",
      "88882                            Less than once per year   \n",
      "\n",
      "                                              OpenSource  \\\n",
      "0      The quality of OSS and closed source software ...   \n",
      "1      The quality of OSS and closed source software ...   \n",
      "2      The quality of OSS and closed source software ...   \n",
      "3      The quality of OSS and closed source software ...   \n",
      "4      OSS is, on average, of HIGHER quality than pro...   \n",
      "...                                                  ...   \n",
      "88878  The quality of OSS and closed source software ...   \n",
      "88879  The quality of OSS and closed source software ...   \n",
      "88880                                                NaN   \n",
      "88881  OSS is, on average, of HIGHER quality than pro...   \n",
      "88882  OSS is, on average, of HIGHER quality than pro...   \n",
      "\n",
      "                                              Employment  \\\n",
      "0                 Not employed, and not looking for work   \n",
      "1                     Not employed, but looking for work   \n",
      "2                                     Employed full-time   \n",
      "3                                     Employed full-time   \n",
      "4                                     Employed full-time   \n",
      "...                                                  ...   \n",
      "88878             Not employed, and not looking for work   \n",
      "88879                                                NaN   \n",
      "88880                                 Employed full-time   \n",
      "88881  Independent contractor, freelancer, or self-em...   \n",
      "88882             Not employed, and not looking for work   \n",
      "\n",
      "                      Country         Student  \\\n",
      "0              United Kingdom              No   \n",
      "1      Bosnia and Herzegovina  Yes, full-time   \n",
      "2                    Thailand              No   \n",
      "3               United States              No   \n",
      "4                     Ukraine              No   \n",
      "...                       ...             ...   \n",
      "88878                  Canada              No   \n",
      "88879                     NaN             NaN   \n",
      "88880                     NaN             NaN   \n",
      "88881                     NaN             NaN   \n",
      "88882                   Spain  Yes, full-time   \n",
      "\n",
      "                                                 EdLevel  \\\n",
      "0                              Primary/elementary school   \n",
      "1      Secondary school (e.g. American high school, G...   \n",
      "2               Bachelor’s degree (BA, BS, B.Eng., etc.)   \n",
      "3               Bachelor’s degree (BA, BS, B.Eng., etc.)   \n",
      "4               Bachelor’s degree (BA, BS, B.Eng., etc.)   \n",
      "...                                                  ...   \n",
      "88878                          Primary/elementary school   \n",
      "88879                                                NaN   \n",
      "88880                                                NaN   \n",
      "88881                                                NaN   \n",
      "88882                 Professional degree (JD, MD, etc.)   \n",
      "\n",
      "                                          UndergradMajor  ...  \\\n",
      "0                                                    NaN  ...   \n",
      "1                                                    NaN  ...   \n",
      "2                          Web development or web design  ...   \n",
      "3      Computer science, computer engineering, or sof...  ...   \n",
      "4      Computer science, computer engineering, or sof...  ...   \n",
      "...                                                  ...  ...   \n",
      "88878                                                NaN  ...   \n",
      "88879                                                NaN  ...   \n",
      "88880                                                NaN  ...   \n",
      "88881                                                NaN  ...   \n",
      "88882  Computer science, computer engineering, or sof...  ...   \n",
      "\n",
      "                                  WelcomeChange  \\\n",
      "0       Just as welcome now as I felt last year   \n",
      "1       Just as welcome now as I felt last year   \n",
      "2       Just as welcome now as I felt last year   \n",
      "3       Just as welcome now as I felt last year   \n",
      "4       Just as welcome now as I felt last year   \n",
      "...                                         ...   \n",
      "88878                                       NaN   \n",
      "88879                                       NaN   \n",
      "88880                                       NaN   \n",
      "88881                                       NaN   \n",
      "88882  Somewhat less welcome now than last year   \n",
      "\n",
      "                                            SONewContent   Age Gender Trans  \\\n",
      "0      Tech articles written by other developers;Indu...  14.0    Man    No   \n",
      "1      Tech articles written by other developers;Indu...  19.0    Man    No   \n",
      "2      Tech meetups or events in your area;Courses on...  28.0    Man    No   \n",
      "3      Tech articles written by other developers;Indu...  22.0    Man    No   \n",
      "4      Tech meetups or events in your area;Courses on...  30.0    Man    No   \n",
      "...                                                  ...   ...    ...   ...   \n",
      "88878  Tech articles written by other developers;Tech...   NaN    Man    No   \n",
      "88879                                                NaN   NaN    NaN   NaN   \n",
      "88880                                                NaN   NaN    NaN   NaN   \n",
      "88881                                                NaN   NaN    NaN   NaN   \n",
      "88882  Tech articles written by other developers;Indu...  18.0    Man    No   \n",
      "\n",
      "                     Sexuality  \\\n",
      "0      Straight / Heterosexual   \n",
      "1      Straight / Heterosexual   \n",
      "2      Straight / Heterosexual   \n",
      "3      Straight / Heterosexual   \n",
      "4      Straight / Heterosexual   \n",
      "...                        ...   \n",
      "88878                      NaN   \n",
      "88879                      NaN   \n",
      "88880                      NaN   \n",
      "88881                      NaN   \n",
      "88882  Straight / Heterosexual   \n",
      "\n",
      "                                               Ethnicity Dependents  \\\n",
      "0                                                    NaN         No   \n",
      "1                                                    NaN         No   \n",
      "2                                                    NaN        Yes   \n",
      "3                           White or of European descent         No   \n",
      "4               White or of European descent;Multiracial         No   \n",
      "...                                                  ...        ...   \n",
      "88878                                                NaN         No   \n",
      "88879                                                NaN        NaN   \n",
      "88880                                                NaN        NaN   \n",
      "88881                                                NaN        NaN   \n",
      "88882  Hispanic or Latino/Latina;White or of European...         No   \n",
      "\n",
      "                SurveyLength                  SurveyEase  \n",
      "0      Appropriate in length  Neither easy nor difficult  \n",
      "1      Appropriate in length  Neither easy nor difficult  \n",
      "2      Appropriate in length  Neither easy nor difficult  \n",
      "3      Appropriate in length                        Easy  \n",
      "4      Appropriate in length                        Easy  \n",
      "...                      ...                         ...  \n",
      "88878  Appropriate in length                        Easy  \n",
      "88879                    NaN                         NaN  \n",
      "88880                    NaN                         NaN  \n",
      "88881                    NaN                         NaN  \n",
      "88882  Appropriate in length                        Easy  \n",
      "\n",
      "[88883 rows x 85 columns]\n"
     ]
    }
   ],
   "source": [
    "df = pd.read_csv('/Users/dhruvbharara/Downloads/stack-overflow-developer-survey-2019 (1)/survey_results_public_final.csv')\n",
    "print(df)"
   ]
  },
  {
   "cell_type": "code",
   "execution_count": null,
   "metadata": {},
   "outputs": [],
   "source": [
    "print(df.shape) #prints the rows and columns of dataset\n"
   ]
  },
  {
   "cell_type": "code",
   "execution_count": null,
   "metadata": {},
   "outputs": [],
   "source": [
    "df.info"
   ]
  },
  {
   "cell_type": "code",
   "execution_count": null,
   "metadata": {},
   "outputs": [],
   "source": [
    "schema_df = pd.read_csv('/Users/dhruvbharara/Downloads/stack-overflow-developer-survey-2023/survey_results_schema_final.csv')\n",
    "print(schema_df)"
   ]
  },
  {
   "cell_type": "code",
   "execution_count": null,
   "metadata": {},
   "outputs": [],
   "source": [
    "df.head(10) #gives the output of first ten rows "
   ]
  },
  {
   "cell_type": "code",
   "execution_count": null,
   "metadata": {},
   "outputs": [],
   "source": [
    "print(schema_df['qid']) #printing only the specified column  ,,,, this also a series \n"
   ]
  },
  {
   "cell_type": "code",
   "execution_count": null,
   "metadata": {},
   "outputs": [],
   "source": [
    "print(df.Age) #another way to print a column\n"
   ]
  },
  {
   "cell_type": "code",
   "execution_count": null,
   "metadata": {},
   "outputs": [],
   "source": [
    "print(df[['Respondent','MainBranch']])  #accessign multiple columns in a single row\n"
   ]
  },
  {
   "cell_type": "code",
   "execution_count": null,
   "metadata": {},
   "outputs": [],
   "source": [
    "\n",
    "print(df.columns) #getting the names of all the columns"
   ]
  },
  {
   "cell_type": "code",
   "execution_count": null,
   "metadata": {},
   "outputs": [],
   "source": [
    "print(df.iloc[0])  #getting the data of a specififc row\n",
    "\n",
    "print(df.iloc[0,1]) #getting the data of row 0 to 1 \n",
    "\n",
    "print(df.iloc[[0,1],2]) #getting the  data of row 0 to 1 with colunn 2 only as an attribute \n"
   ]
  },
  {
   "cell_type": "code",
   "execution_count": null,
   "metadata": {},
   "outputs": [],
   "source": [
    "print(df.iloc[[0,10],1]) #getting the data of row 0 to 10 with column 1 only as an attribute\n",
    "\n",
    "print(df.loc[[0,1]]) #loc is also used to get data  and also used with combination of attribute\n",
    "\n",
    "print(df.loc[[1,2],'MainBranch']) #in loc we need to specify the labelo only if kept empty it will give a key error\n",
    "\n",
    "print(df.loc[1:20,['MainBranch','Employment']]) #1:20 infers to print access data value from rows 1 to 20\n",
    "\n",
    "print(df['WorkPlan'].value_counts())"
   ]
  },
  {
   "cell_type": "code",
   "execution_count": null,
   "metadata": {},
   "outputs": [],
   "source": [
    "print(df.loc[1:20 , 'Respondent':'Age1stCode']) #value of rows 1 to 20 along with attributes from responseID to learncode \n",
    "\n",
    "df.set_index('Age', inplace = True) #to set a column as an index , inplace is used to carry over those changes meaning making the changes permanent \n"
   ]
  },
  {
   "cell_type": "code",
   "execution_count": null,
   "metadata": {},
   "outputs": [],
   "source": [
    "print(df.index)\n",
    "\n",
    "df.reset_index(inplace=True) #reseting the index \n",
    "\n",
    "print(schema_df)\n",
    "\n",
    "print(schema_df.sort_index(ascending=False))\n"
   ]
  },
  {
   "cell_type": "code",
   "execution_count": null,
   "metadata": {},
   "outputs": [],
   "source": [
    "#took sample data to work on some commands\n",
    "sample_Data = {'first':['Dhruv' , 'Vraj' , 'Sanidhya ' , 'john'] , 'last':['Bharara' , 'Shah' , 'Sarda' , 'dane']  , 'email':['dhruvbharara2@gmail.com' , 'vrajshah09@gmail.com' , 'sardasandy20@gmail.com' , 'johndane@gmail.com']}\n",
    "\n",
    "sd = pd.DataFrame(sample_Data)\n",
    "\n",
    "print(sd)\n",
    "\n",
    "filt1 = (sd['first'] == 'Dhruv') #to check if the row matches or not , if matches then return true and not return false \n",
    "\n",
    "print(filt1)\n",
    "print(sd[filt1]) #will return the data frame with the filter \n"
   ]
  },
  {
   "cell_type": "code",
   "execution_count": 4,
   "metadata": {},
   "outputs": [
    {
     "name": "stdout",
     "output_type": "stream",
     "text": [
      "0            NaN\n",
      "1            NaN\n",
      "2         8820.0\n",
      "3        61000.0\n",
      "4            NaN\n",
      "          ...   \n",
      "88878        NaN\n",
      "88879        NaN\n",
      "88880        NaN\n",
      "88881        NaN\n",
      "88882        NaN\n",
      "Name: ConvertedComp, Length: 88883, dtype: float64\n",
      "       Respondent                                         MainBranch Hobbyist  \\\n",
      "5               6  I am not primarily a developer, but I write co...      Yes   \n",
      "8               9                     I am a developer by profession      Yes   \n",
      "12             13                     I am a developer by profession      Yes   \n",
      "15             16                     I am a developer by profession      Yes   \n",
      "21             22                     I am a developer by profession      Yes   \n",
      "...           ...                                                ...      ...   \n",
      "88323       88876                     I am a developer by profession      Yes   \n",
      "88324       88877                     I am a developer by profession      Yes   \n",
      "88325       88878                     I am a developer by profession      Yes   \n",
      "88326       88879                     I am a developer by profession      Yes   \n",
      "88329       88882                     I am a developer by profession      Yes   \n",
      "\n",
      "                                             OpenSourcer  \\\n",
      "5                                                  Never   \n",
      "8                             Once a month or more often   \n",
      "12     Less than once a month but more than once per ...   \n",
      "15                                                 Never   \n",
      "21                               Less than once per year   \n",
      "...                                                  ...   \n",
      "88323                                              Never   \n",
      "88324                            Less than once per year   \n",
      "88325                            Less than once per year   \n",
      "88326                                              Never   \n",
      "88329                                              Never   \n",
      "\n",
      "                                              OpenSource          Employment  \\\n",
      "5      The quality of OSS and closed source software ...  Employed full-time   \n",
      "8      The quality of OSS and closed source software ...  Employed full-time   \n",
      "12     OSS is, on average, of HIGHER quality than pro...  Employed full-time   \n",
      "15     The quality of OSS and closed source software ...  Employed full-time   \n",
      "21     OSS is, on average, of HIGHER quality than pro...  Employed full-time   \n",
      "...                                                  ...                 ...   \n",
      "88323  OSS is, on average, of HIGHER quality than pro...  Employed full-time   \n",
      "88324  OSS is, on average, of HIGHER quality than pro...  Employed full-time   \n",
      "88325  The quality of OSS and closed source software ...  Employed full-time   \n",
      "88326  The quality of OSS and closed source software ...  Employed full-time   \n",
      "88329  OSS is, on average, of LOWER quality than prop...  Employed full-time   \n",
      "\n",
      "              Country         Student  \\\n",
      "5              Canada              No   \n",
      "8         New Zealand              No   \n",
      "12      United States              No   \n",
      "15     United Kingdom              No   \n",
      "21      United States              No   \n",
      "...               ...             ...   \n",
      "88323   United States              No   \n",
      "88324   United States              No   \n",
      "88325   United States              No   \n",
      "88326         Finland              No   \n",
      "88329     Netherlands  Yes, full-time   \n",
      "\n",
      "                                                 EdLevel  \\\n",
      "5               Bachelor’s degree (BA, BS, B.Eng., etc.)   \n",
      "8      Some college/university study without earning ...   \n",
      "12           Master’s degree (MA, MS, M.Eng., MBA, etc.)   \n",
      "15           Master’s degree (MA, MS, M.Eng., MBA, etc.)   \n",
      "21     Some college/university study without earning ...   \n",
      "...                                                  ...   \n",
      "88323           Bachelor’s degree (BA, BS, B.Eng., etc.)   \n",
      "88324           Bachelor’s degree (BA, BS, B.Eng., etc.)   \n",
      "88325           Bachelor’s degree (BA, BS, B.Eng., etc.)   \n",
      "88326        Master’s degree (MA, MS, M.Eng., MBA, etc.)   \n",
      "88329        Master’s degree (MA, MS, M.Eng., MBA, etc.)   \n",
      "\n",
      "                                          UndergradMajor  ...  \\\n",
      "5                              Mathematics or statistics  ...   \n",
      "8      Computer science, computer engineering, or sof...  ...   \n",
      "12     Computer science, computer engineering, or sof...  ...   \n",
      "15                                                   NaN  ...   \n",
      "21                                                   NaN  ...   \n",
      "...                                                  ...  ...   \n",
      "88323  Computer science, computer engineering, or sof...  ...   \n",
      "88324  Computer science, computer engineering, or sof...  ...   \n",
      "88325  Computer science, computer engineering, or sof...  ...   \n",
      "88326  Computer science, computer engineering, or sof...  ...   \n",
      "88329  Computer science, computer engineering, or sof...  ...   \n",
      "\n",
      "                                           WelcomeChange  \\\n",
      "5                Just as welcome now as I felt last year   \n",
      "8                Just as welcome now as I felt last year   \n",
      "12              Somewhat more welcome now than last year   \n",
      "15               Just as welcome now as I felt last year   \n",
      "21               Just as welcome now as I felt last year   \n",
      "...                                                  ...   \n",
      "88323              A lot less welcome now than last year   \n",
      "88324           Somewhat more welcome now than last year   \n",
      "88325            Just as welcome now as I felt last year   \n",
      "88326  Not applicable - I did not use Stack Overflow ...   \n",
      "88329            Just as welcome now as I felt last year   \n",
      "\n",
      "                                            SONewContent   Age Gender Trans  \\\n",
      "5      Tech articles written by other developers;Indu...  28.0    Man    No   \n",
      "8                                                    NaN  23.0    Man    No   \n",
      "12     Tech articles written by other developers;Cour...  28.0    Man    No   \n",
      "15     Tech articles written by other developers;Indu...  26.0    Man    No   \n",
      "21     Tech articles written by other developers;Indu...  47.0    Man    No   \n",
      "...                                                  ...   ...    ...   ...   \n",
      "88323                                                NaN  23.0    Man    No   \n",
      "88324  Tech articles written by other developers;Cour...  48.0    Man    No   \n",
      "88325  Tech articles written by other developers;Indu...  26.0    Man    No   \n",
      "88326                                                NaN  34.0    Man    No   \n",
      "88329                                                NaN   NaN    Man    No   \n",
      "\n",
      "                     Sexuality                     Ethnicity Dependents  \\\n",
      "5      Straight / Heterosexual                    East Asian         No   \n",
      "8                     Bisexual  White or of European descent         No   \n",
      "12     Straight / Heterosexual  White or of European descent        Yes   \n",
      "15     Straight / Heterosexual  White or of European descent         No   \n",
      "21     Straight / Heterosexual  White or of European descent        Yes   \n",
      "...                        ...                           ...        ...   \n",
      "88323  Straight / Heterosexual  White or of European descent         No   \n",
      "88324  Straight / Heterosexual                   South Asian        Yes   \n",
      "88325  Straight / Heterosexual                   South Asian         No   \n",
      "88326  Straight / Heterosexual  White or of European descent         No   \n",
      "88329  Straight / Heterosexual  White or of European descent        Yes   \n",
      "\n",
      "                SurveyLength                  SurveyEase  \n",
      "5                   Too long  Neither easy nor difficult  \n",
      "8      Appropriate in length  Neither easy nor difficult  \n",
      "12     Appropriate in length                        Easy  \n",
      "15     Appropriate in length  Neither easy nor difficult  \n",
      "21     Appropriate in length                        Easy  \n",
      "...                      ...                         ...  \n",
      "88323  Appropriate in length                        Easy  \n",
      "88324               Too long  Neither easy nor difficult  \n",
      "88325  Appropriate in length                        Easy  \n",
      "88326  Appropriate in length                        Easy  \n",
      "88329               Too long                        Easy  \n",
      "\n",
      "[22289 rows x 85 columns]\n",
      "              Country                                 LanguageWorkedWith  \\\n",
      "5              Canada                                         Java;R;SQL   \n",
      "8         New Zealand  Bash/Shell/PowerShell;C#;HTML/CSS;JavaScript;P...   \n",
      "12      United States  Bash/Shell/PowerShell;HTML/CSS;JavaScript;PHP;...   \n",
      "15     United Kingdom  Bash/Shell/PowerShell;C#;HTML/CSS;JavaScript;T...   \n",
      "21      United States  Bash/Shell/PowerShell;C++;HTML/CSS;JavaScript;...   \n",
      "...               ...                                                ...   \n",
      "88323   United States  Bash/Shell/PowerShell;C#;HTML/CSS;Java;Python;...   \n",
      "88324   United States  Bash/Shell/PowerShell;C;Clojure;HTML/CSS;Java;...   \n",
      "88325   United States               HTML/CSS;JavaScript;Scala;TypeScript   \n",
      "88326         Finland                   Bash/Shell/PowerShell;C++;Python   \n",
      "88329     Netherlands             C#;HTML/CSS;Java;JavaScript;PHP;Python   \n",
      "\n",
      "       ConvertedComp  \n",
      "5           366420.0  \n",
      "8            95179.0  \n",
      "12           90000.0  \n",
      "15          455352.0  \n",
      "21          103000.0  \n",
      "...              ...  \n",
      "88323       180000.0  \n",
      "88324      2000000.0  \n",
      "88325       130000.0  \n",
      "88326        82488.0  \n",
      "88329       588012.0  \n",
      "\n",
      "[22289 rows x 3 columns]\n"
     ]
    }
   ],
   "source": [
    "\n",
    "print(df['ConvertedComp'])\n",
    "\n",
    "high_salary = (df['ConvertedComp']>70000)\n",
    "\n",
    "print(df.loc[high_salary]) #using filter for printing salaries more than 70000\n",
    "\n",
    "print(df.loc[high_salary,['Country' , 'LanguageWorkedWith' , 'ConvertedComp']])"
   ]
  },
  {
   "cell_type": "code",
   "execution_count": 5,
   "metadata": {},
   "outputs": [
    {
     "name": "stdout",
     "output_type": "stream",
     "text": [
      "       ConvertedComp  Respondent YearsCode\n",
      "0                NaN           1         4\n",
      "6                NaN           7         6\n",
      "7                NaN           8         8\n",
      "11               NaN          12         5\n",
      "16           65277.0          17         5\n",
      "...              ...         ...       ...\n",
      "88867            NaN       86806         5\n",
      "88870            NaN       87352        40\n",
      "88872            NaN       87739         9\n",
      "88877            NaN       88282        38\n",
      "88882            NaN       88863         8\n",
      "\n",
      "[40457 rows x 3 columns]\n",
      "0                          HTML/CSS;Java;JavaScript;Python\n",
      "1                                      C++;HTML/CSS;Python\n",
      "3                                      C;C++;C#;Python;SQL\n",
      "4              C++;HTML/CSS;Java;JavaScript;Python;SQL;VBA\n",
      "7        Bash/Shell/PowerShell;C;C++;HTML/CSS;Java;Java...\n",
      "                               ...                        \n",
      "88854    Bash/Shell/PowerShell;C;C++;HTML/CSS;Java;Java...\n",
      "88860      Bash/Shell/PowerShell;C++;Python;Ruby;Other(s):\n",
      "88865      Bash/Shell/PowerShell;HTML/CSS;Python;Other(s):\n",
      "88872             C;C++;HTML/CSS;JavaScript;PHP;Python;SQL\n",
      "88876                           HTML/CSS;JavaScript;Python\n",
      "Name: LanguageWorkedWith, Length: 36443, dtype: object\n"
     ]
    }
   ],
   "source": [
    "fresher = (df['YearsCode'] > str(3))\n",
    "print(df.loc[fresher , ['ConvertedComp' , 'Respondent','YearsCode']])\n",
    "\n",
    "filt2 = df['LanguageWorkedWith'].str.contains('Python' , na = False)\n",
    "print(df.loc[filt2,'LanguageWorkedWith'])#running with filter to print the rows with python as a language worked with\n"
   ]
  },
  {
   "cell_type": "code",
   "execution_count": null,
   "metadata": {},
   "outputs": [],
   "source": [
    "#again working with the sample data created before\n",
    "sd = pd.DataFrame(sample_Data)\n",
    "print(sd)\n",
    "\n",
    "sd.columns = ['first_name ' , 'last_name' , 'email'] #just changing the names of the column..\n",
    "sd.columns = sd.columns.str.replace('email' , 'email_id') #replacing the columns names with some another name , first argument is old column name and second argument is new column name , works with anything\n",
    "\n",
    "sd.columns = [x.upper() for x in sd.columns ] #making the column names in uppercase \n",
    "\n",
    "sd.columns = [x.lower() for x in sd.columns] #making the column names in lowercase \n",
    "\n",
    "\n",
    "print(sd)"
   ]
  },
  {
   "cell_type": "code",
   "execution_count": null,
   "metadata": {},
   "outputs": [],
   "source": [
    "print(sd.loc[2])\n"
   ]
  },
  {
   "cell_type": "code",
   "execution_count": null,
   "metadata": {},
   "outputs": [],
   "source": [
    "sd.loc[3,['last', 'email']]"
   ]
  },
  {
   "cell_type": "code",
   "execution_count": null,
   "metadata": {},
   "outputs": [],
   "source": [
    "sd.loc[3,['last' , 'email']] = ['doe' , 'johndoe@gmail.com'] #used for updating a row in the column , columns need to specifed first "
   ]
  },
  {
   "cell_type": "code",
   "execution_count": null,
   "metadata": {},
   "outputs": [],
   "source": [
    "sd.loc[3,['last']] = ['Doe']\n",
    "sd.loc[3,['first']] = ['John'] #updating the rows again \n",
    "print(sd)"
   ]
  },
  {
   "cell_type": "code",
   "execution_count": null,
   "metadata": {},
   "outputs": [],
   "source": [
    "sd['email'] = sd['email'].str.upper() #or run sd.email.str.upper()\n",
    "sd"
   ]
  },
  {
   "cell_type": "code",
   "execution_count": null,
   "metadata": {},
   "outputs": [],
   "source": [
    "sd['email'] = sd['email'].str.upper()"
   ]
  },
  {
   "cell_type": "code",
   "execution_count": null,
   "metadata": {},
   "outputs": [],
   "source": [
    "sd.email.apply(len) #to give the lenght of rows"
   ]
  },
  {
   "cell_type": "code",
   "execution_count": null,
   "metadata": {},
   "outputs": [],
   "source": [
    "def email_upper(email):    #creating functions and pandas together \n",
    "    return sd.email.str.upper()\n",
    "    \n",
    "\n",
    "email_upper(sd.email)\n"
   ]
  },
  {
   "cell_type": "code",
   "execution_count": null,
   "metadata": {},
   "outputs": [],
   "source": [
    "sd['email'] = sd['email'].apply(email_upper) #apply map only works on dataframe and not series \n",
    "sd"
   ]
  },
  {
   "cell_type": "code",
   "execution_count": null,
   "metadata": {},
   "outputs": [],
   "source": [
    "sd.email = sd.email.apply(lambda x : x.lower())\n",
    "sd"
   ]
  },
  {
   "cell_type": "code",
   "execution_count": null,
   "metadata": {},
   "outputs": [],
   "source": [
    "sd.map(len)  # can also use sd.applymap(len) , map method only works on series \n"
   ]
  },
  {
   "cell_type": "code",
   "execution_count": null,
   "metadata": {},
   "outputs": [],
   "source": [
    "sd.loc[0 , ['first']] = ['pritesh']\n"
   ]
  },
  {
   "cell_type": "code",
   "execution_count": null,
   "metadata": {},
   "outputs": [],
   "source": [
    "sd"
   ]
  },
  {
   "cell_type": "code",
   "execution_count": null,
   "metadata": {},
   "outputs": [],
   "source": []
  }
 ],
 "metadata": {
  "kernelspec": {
   "display_name": "Python 3",
   "language": "python",
   "name": "python3"
  },
  "language_info": {
   "codemirror_mode": {
    "name": "ipython",
    "version": 3
   },
   "file_extension": ".py",
   "mimetype": "text/x-python",
   "name": "python",
   "nbconvert_exporter": "python",
   "pygments_lexer": "ipython3",
   "version": "3.10.9"
  },
  "orig_nbformat": 4,
  "vscode": {
   "interpreter": {
    "hash": "98590ff4fe04c8543246b2a01debd3de3c5ca9b666f43f1fa87d5110c692004c"
   }
  }
 },
 "nbformat": 4,
 "nbformat_minor": 2
}
