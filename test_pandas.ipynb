{
 "cells": [
  {
   "cell_type": "code",
   "execution_count": null,
   "metadata": {},
   "outputs": [],
   "source": [
    "import pandas as pd"
   ]
  },
  {
   "cell_type": "code",
   "execution_count": null,
   "metadata": {},
   "outputs": [],
   "source": [
    "df = pd.read_csv('/Users/dhruvbharara/Downloads/stack-overflow-developer-survey-2019 (1)/survey_results_public_final.csv')\n",
    "print(df)"
   ]
  },
  {
   "cell_type": "code",
   "execution_count": null,
   "metadata": {},
   "outputs": [],
   "source": [
    "print(df.shape) #prints the rows and columns of dataset\n"
   ]
  },
  {
   "cell_type": "code",
   "execution_count": null,
   "metadata": {},
   "outputs": [],
   "source": [
    "df.info"
   ]
  },
  {
   "cell_type": "code",
   "execution_count": null,
   "metadata": {},
   "outputs": [],
   "source": [
    "schema_df = pd.read_csv('/Users/dhruvbharara/Downloads/stack-overflow-developer-survey-2023/survey_results_schema_final.csv')\n",
    "print(schema_df)"
   ]
  },
  {
   "cell_type": "code",
   "execution_count": null,
   "metadata": {},
   "outputs": [],
   "source": [
    "df.head(10) #gives the output of first ten rows "
   ]
  },
  {
   "cell_type": "code",
   "execution_count": null,
   "metadata": {},
   "outputs": [],
   "source": [
    "print(schema_df['qid']) #printing only the specified column  ,,,, this also a series \n"
   ]
  },
  {
   "cell_type": "code",
   "execution_count": null,
   "metadata": {},
   "outputs": [],
   "source": [
    "print(df.Age) #another way to print a column\n"
   ]
  },
  {
   "cell_type": "code",
   "execution_count": null,
   "metadata": {},
   "outputs": [],
   "source": [
    "print(df[['Respondent','MainBranch']])  #accessign multiple columns in a single row\n"
   ]
  },
  {
   "cell_type": "code",
   "execution_count": null,
   "metadata": {},
   "outputs": [],
   "source": [
    "\n",
    "print(df.columns) #getting the names of all the columns"
   ]
  },
  {
   "cell_type": "code",
   "execution_count": null,
   "metadata": {},
   "outputs": [],
   "source": [
    "print(df.iloc[0])  #getting the data of a specififc row\n",
    "\n",
    "print(df.iloc[0,1]) #getting the data of row 0 to 1 \n",
    "\n",
    "print(df.iloc[[0,1],2]) #getting the  data of row 0 to 1 with colunn 2 only as an attribute \n"
   ]
  },
  {
   "cell_type": "code",
   "execution_count": null,
   "metadata": {},
   "outputs": [],
   "source": [
    "print(df.iloc[[0,10],1]) #getting the data of row 0 to 10 with column 1 only as an attribute\n",
    "\n",
    "print(df.loc[[0,1]]) #loc is also used to get data  and also used with combination of attribute\n",
    "\n",
    "print(df.loc[[1,2],'MainBranch']) #in loc we need to specify the labelo only if kept empty it will give a key error\n",
    "\n",
    "print(df.loc[1:20,['MainBranch','Employment']]) #1:20 infers to print access data value from rows 1 to 20\n",
    "\n",
    "print(df['WorkPlan'].value_counts())"
   ]
  },
  {
   "cell_type": "code",
   "execution_count": null,
   "metadata": {},
   "outputs": [],
   "source": [
    "print(df.loc[1:20 , 'Respondent':'Age1stCode']) #value of rows 1 to 20 along with attributes from responseID to learncode \n",
    "\n",
    "df.set_index('Age', inplace = True) #to set a column as an index , inplace is used to carry over those changes meaning making the changes permanent \n"
   ]
  },
  {
   "cell_type": "code",
   "execution_count": null,
   "metadata": {},
   "outputs": [],
   "source": [
    "print(df.index)\n",
    "\n",
    "df.reset_index(inplace=True) #reseting the index \n",
    "\n",
    "print(schema_df)\n",
    "\n",
    "print(schema_df.sort_index(ascending=False))\n"
   ]
  },
  {
   "cell_type": "code",
   "execution_count": null,
   "metadata": {},
   "outputs": [],
   "source": [
    "#took sample data to work on some commands\n",
    "sample_Data = {'first':['Dhruv' , 'Vraj' , 'Sanidhya'] , 'last':['Bharara' , 'Shah' , 'Sarda']  , 'email':['dhruvbharara2@gmail.com' , 'vrajshah09@gmail.com' , 'sardasandy20@gmail.com']}\n",
    "\n",
    "sd = pd.DataFrame(sample_Data)\n",
    "\n",
    "print(sd)\n",
    "\n",
    "filt1 = (sd['first'] == 'Dhruv') #to check if the row matches or not , if matches then return true and not return false \n",
    "\n",
    "print(filt1)\n",
    "print(sd[filt1]) #will return the data frame with the filter \n"
   ]
  },
  {
   "cell_type": "code",
   "execution_count": null,
   "metadata": {},
   "outputs": [],
   "source": [
    "\n",
    "print(df['ConvertedComp'])\n",
    "\n",
    "high_salary = (df['ConvertedComp']>70000)\n",
    "\n",
    "print(df.loc[high_salary]) #using filter for printing salaries more than 70000\n",
    "\n",
    "print(df.loc[high_salary,['Country' , 'LanguageWorkedWith' , 'ConvertedComp']])"
   ]
  },
  {
   "cell_type": "code",
   "execution_count": null,
   "metadata": {},
   "outputs": [],
   "source": [
    "fresher = (df['YearsCode'] > str(3))\n",
    "print(df.loc[fresher , ['ConvertedComp' , 'Respondent','YearsCode']])\n",
    "\n",
    "filt2 = df['LanguageWorkedWith'].str.contains('Python' , na = False)\n",
    "print(df.loc[filt2,'LanguageWorkedWith'])#running with filter to print the rows with python as a language worked with\n"
   ]
  },
  {
   "cell_type": "code",
   "execution_count": null,
   "metadata": {},
   "outputs": [],
   "source": [
    "#again working with the sample data created before\n",
    "sd = pd.DataFrame(sample_Data)\n",
    "print(sd)\n",
    "\n",
    "sd.columns = ['first_name ' , 'last_name' , 'email'] #just changing the names of the column..\n",
    "sd.columns = sd.columns.str.replace('email' , 'email_id') #replacing the columns names with some another name , first argument is old column name and second argument is new column name , works with anything\n",
    "\n",
    "sd.columns = [x.upper() for x in sd.columns ] #making the column names in uppercase \n",
    "\n",
    "sd.columns = [x.lower() for x in sd.columns] #making the column names in lowercase \n",
    "\n",
    "\n",
    "print(sd.loc[2])"
   ]
  },
  {
   "cell_type": "code",
   "execution_count": null,
   "metadata": {},
   "outputs": [],
   "source": []
  },
  {
   "cell_type": "code",
   "execution_count": null,
   "metadata": {},
   "outputs": [],
   "source": []
  },
  {
   "cell_type": "code",
   "execution_count": null,
   "metadata": {},
   "outputs": [],
   "source": []
  },
  {
   "cell_type": "code",
   "execution_count": null,
   "metadata": {},
   "outputs": [],
   "source": []
  },
  {
   "cell_type": "code",
   "execution_count": null,
   "metadata": {},
   "outputs": [],
   "source": []
  },
  {
   "cell_type": "code",
   "execution_count": null,
   "metadata": {},
   "outputs": [],
   "source": []
  },
  {
   "cell_type": "code",
   "execution_count": null,
   "metadata": {},
   "outputs": [],
   "source": []
  },
  {
   "cell_type": "code",
   "execution_count": null,
   "metadata": {},
   "outputs": [],
   "source": []
  }
 ],
 "metadata": {
  "kernelspec": {
   "display_name": "Python 3",
   "language": "python",
   "name": "python3"
  },
  "language_info": {
   "codemirror_mode": {
    "name": "ipython",
    "version": 3
   },
   "file_extension": ".py",
   "mimetype": "text/x-python",
   "name": "python",
   "nbconvert_exporter": "python",
   "pygments_lexer": "ipython3",
   "version": "3.10.9"
  },
  "orig_nbformat": 4,
  "vscode": {
   "interpreter": {
    "hash": "98590ff4fe04c8543246b2a01debd3de3c5ca9b666f43f1fa87d5110c692004c"
   }
  }
 },
 "nbformat": 4,
 "nbformat_minor": 2
}
